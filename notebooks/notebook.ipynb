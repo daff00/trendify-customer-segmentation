{
 "cells": [
  {
   "cell_type": "markdown",
   "id": "2fe9ef34",
   "metadata": {},
   "source": [
    "# E-commerce Sales Analysis & Customer Segmentation\n",
    "---\n",
    "## Project Overview and Goal\n",
    "The goal of this project is to analyze the sales data of an online retail company to identify trends, understand customer behavior, and provide actionable insights to improve sales and marketing strategies. You will act as a data analyst for a fictional e-commerce store called \"Trendify.\"\n",
    "\n",
    "## Business Context\n",
    "Trendify is an online retailer that sells a variety of products. The company has been collecting sales data for the past year and wants to leverage this data to make more informed business decisions. They are particularly interested in understanding which products are selling well, who their most valuable customers are, and how they can optimize their marketing efforts.\n",
    "\n",
    "## Key Question\n",
    "1. What are the overall sales trends on a monthly and quarterly basis?\n",
    "2. Which are the top 10 best-selling products by revenue and quantity?\n",
    "3. Who are the top 10 most valuable customers?\n",
    "4. What is the geographical distribution of sales?\n",
    "5. How can we segment our customers based on their purchasing behavior?\n",
    "\n",
    "## Dataset\n",
    "\"Online Retail\" dataset from the UCI Machine Learning Repository\n",
    "\n",
    "---\n",
    "#### Import Library"
   ]
  },
  {
   "cell_type": "code",
   "execution_count": 1,
   "id": "0b0f6b2e",
   "metadata": {},
   "outputs": [],
   "source": [
    "import pandas as pd\n",
    "import numpy as np\n",
    "import datetime as dt\n",
    "\n",
    "import matplotlib.pyplot as plt\n",
    "import seaborn as sns"
   ]
  },
  {
   "cell_type": "markdown",
   "id": "3d4bd4cb",
   "metadata": {},
   "source": [
    "#### Read the dataset"
   ]
  },
  {
   "cell_type": "code",
   "execution_count": 2,
   "id": "50579f67",
   "metadata": {},
   "outputs": [
    {
     "data": {
      "application/vnd.microsoft.datawrangler.viewer.v0+json": {
       "columns": [
        {
         "name": "index",
         "rawType": "int64",
         "type": "integer"
        },
        {
         "name": "Invoice",
         "rawType": "object",
         "type": "string"
        },
        {
         "name": "StockCode",
         "rawType": "object",
         "type": "string"
        },
        {
         "name": "Description",
         "rawType": "object",
         "type": "string"
        },
        {
         "name": "Quantity",
         "rawType": "int64",
         "type": "integer"
        },
        {
         "name": "InvoiceDate",
         "rawType": "datetime64[s]",
         "type": "unknown"
        },
        {
         "name": "Price",
         "rawType": "float64",
         "type": "float"
        },
        {
         "name": "Customer ID",
         "rawType": "float64",
         "type": "float"
        },
        {
         "name": "Country",
         "rawType": "object",
         "type": "string"
        }
       ],
       "ref": "e354e52e-5f49-4df6-be2a-e9fe61cd9175",
       "rows": [
        [
         "0",
         "489434",
         "85048",
         "15CM CHRISTMAS GLASS BALL 20 LIGHTS",
         "12",
         "2009-12-01 07:45:00",
         "6.95",
         "13085.0",
         "United Kingdom"
        ],
        [
         "1",
         "489434",
         "79323P",
         "PINK CHERRY LIGHTS",
         "12",
         "2009-12-01 07:45:00",
         "6.75",
         "13085.0",
         "United Kingdom"
        ],
        [
         "2",
         "489434",
         "79323W",
         " WHITE CHERRY LIGHTS",
         "12",
         "2009-12-01 07:45:00",
         "6.75",
         "13085.0",
         "United Kingdom"
        ],
        [
         "3",
         "489434",
         "22041",
         "RECORD FRAME 7\" SINGLE SIZE ",
         "48",
         "2009-12-01 07:45:00",
         "2.1",
         "13085.0",
         "United Kingdom"
        ],
        [
         "4",
         "489434",
         "21232",
         "STRAWBERRY CERAMIC TRINKET BOX",
         "24",
         "2009-12-01 07:45:00",
         "1.25",
         "13085.0",
         "United Kingdom"
        ]
       ],
       "shape": {
        "columns": 8,
        "rows": 5
       }
      },
      "text/html": [
       "<div>\n",
       "<style scoped>\n",
       "    .dataframe tbody tr th:only-of-type {\n",
       "        vertical-align: middle;\n",
       "    }\n",
       "\n",
       "    .dataframe tbody tr th {\n",
       "        vertical-align: top;\n",
       "    }\n",
       "\n",
       "    .dataframe thead th {\n",
       "        text-align: right;\n",
       "    }\n",
       "</style>\n",
       "<table border=\"1\" class=\"dataframe\">\n",
       "  <thead>\n",
       "    <tr style=\"text-align: right;\">\n",
       "      <th></th>\n",
       "      <th>Invoice</th>\n",
       "      <th>StockCode</th>\n",
       "      <th>Description</th>\n",
       "      <th>Quantity</th>\n",
       "      <th>InvoiceDate</th>\n",
       "      <th>Price</th>\n",
       "      <th>Customer ID</th>\n",
       "      <th>Country</th>\n",
       "    </tr>\n",
       "  </thead>\n",
       "  <tbody>\n",
       "    <tr>\n",
       "      <th>0</th>\n",
       "      <td>489434</td>\n",
       "      <td>85048</td>\n",
       "      <td>15CM CHRISTMAS GLASS BALL 20 LIGHTS</td>\n",
       "      <td>12</td>\n",
       "      <td>2009-12-01 07:45:00</td>\n",
       "      <td>6.95</td>\n",
       "      <td>13085.0</td>\n",
       "      <td>United Kingdom</td>\n",
       "    </tr>\n",
       "    <tr>\n",
       "      <th>1</th>\n",
       "      <td>489434</td>\n",
       "      <td>79323P</td>\n",
       "      <td>PINK CHERRY LIGHTS</td>\n",
       "      <td>12</td>\n",
       "      <td>2009-12-01 07:45:00</td>\n",
       "      <td>6.75</td>\n",
       "      <td>13085.0</td>\n",
       "      <td>United Kingdom</td>\n",
       "    </tr>\n",
       "    <tr>\n",
       "      <th>2</th>\n",
       "      <td>489434</td>\n",
       "      <td>79323W</td>\n",
       "      <td>WHITE CHERRY LIGHTS</td>\n",
       "      <td>12</td>\n",
       "      <td>2009-12-01 07:45:00</td>\n",
       "      <td>6.75</td>\n",
       "      <td>13085.0</td>\n",
       "      <td>United Kingdom</td>\n",
       "    </tr>\n",
       "    <tr>\n",
       "      <th>3</th>\n",
       "      <td>489434</td>\n",
       "      <td>22041</td>\n",
       "      <td>RECORD FRAME 7\" SINGLE SIZE</td>\n",
       "      <td>48</td>\n",
       "      <td>2009-12-01 07:45:00</td>\n",
       "      <td>2.10</td>\n",
       "      <td>13085.0</td>\n",
       "      <td>United Kingdom</td>\n",
       "    </tr>\n",
       "    <tr>\n",
       "      <th>4</th>\n",
       "      <td>489434</td>\n",
       "      <td>21232</td>\n",
       "      <td>STRAWBERRY CERAMIC TRINKET BOX</td>\n",
       "      <td>24</td>\n",
       "      <td>2009-12-01 07:45:00</td>\n",
       "      <td>1.25</td>\n",
       "      <td>13085.0</td>\n",
       "      <td>United Kingdom</td>\n",
       "    </tr>\n",
       "  </tbody>\n",
       "</table>\n",
       "</div>"
      ],
      "text/plain": [
       "  Invoice StockCode                          Description  Quantity  \\\n",
       "0  489434     85048  15CM CHRISTMAS GLASS BALL 20 LIGHTS        12   \n",
       "1  489434    79323P                   PINK CHERRY LIGHTS        12   \n",
       "2  489434    79323W                  WHITE CHERRY LIGHTS        12   \n",
       "3  489434     22041         RECORD FRAME 7\" SINGLE SIZE         48   \n",
       "4  489434     21232       STRAWBERRY CERAMIC TRINKET BOX        24   \n",
       "\n",
       "          InvoiceDate  Price  Customer ID         Country  \n",
       "0 2009-12-01 07:45:00   6.95      13085.0  United Kingdom  \n",
       "1 2009-12-01 07:45:00   6.75      13085.0  United Kingdom  \n",
       "2 2009-12-01 07:45:00   6.75      13085.0  United Kingdom  \n",
       "3 2009-12-01 07:45:00   2.10      13085.0  United Kingdom  \n",
       "4 2009-12-01 07:45:00   1.25      13085.0  United Kingdom  "
      ]
     },
     "execution_count": 2,
     "metadata": {},
     "output_type": "execute_result"
    }
   ],
   "source": [
    "sales = pd.read_csv(\"./Dataset/online_retail_II.csv\", engine='pyarrow')\n",
    "\n",
    "# See the top 5 data\n",
    "sales.head()"
   ]
  },
  {
   "cell_type": "code",
   "execution_count": 3,
   "id": "db224f77",
   "metadata": {},
   "outputs": [
    {
     "name": "stdout",
     "output_type": "stream",
     "text": [
      "<class 'pandas.core.frame.DataFrame'>\n",
      "RangeIndex: 1067371 entries, 0 to 1067370\n",
      "Data columns (total 8 columns):\n",
      " #   Column       Non-Null Count    Dtype        \n",
      "---  ------       --------------    -----        \n",
      " 0   Invoice      1067371 non-null  object       \n",
      " 1   StockCode    1067371 non-null  object       \n",
      " 2   Description  1062989 non-null  object       \n",
      " 3   Quantity     1067371 non-null  int64        \n",
      " 4   InvoiceDate  1067371 non-null  datetime64[s]\n",
      " 5   Price        1067371 non-null  float64      \n",
      " 6   Customer ID  824364 non-null   float64      \n",
      " 7   Country      1067371 non-null  object       \n",
      "dtypes: datetime64[s](1), float64(2), int64(1), object(4)\n",
      "memory usage: 65.1+ MB\n",
      "None\n",
      "\n",
      "Missing values on dataset:\n",
      " Invoice             0\n",
      "StockCode           0\n",
      "Description      4382\n",
      "Quantity            0\n",
      "InvoiceDate         0\n",
      "Price               0\n",
      "Customer ID    243007\n",
      "Country             0\n",
      "dtype: int64\n",
      "\n",
      "Duplicate values on dataset:\n",
      " 34335\n"
     ]
    }
   ],
   "source": [
    "# See the dataset information\n",
    "print(sales.info())\n",
    "print()\n",
    "print(\"Missing values on dataset:\\n\", sales.isna().sum())\n",
    "print()\n",
    "print(\"Duplicate values on dataset:\\n\", sales.duplicated().sum())"
   ]
  },
  {
   "cell_type": "markdown",
   "id": "bfc6ff81",
   "metadata": {},
   "source": [
    "The dataset contain 8 column and 1.067.371 rows. <br>\n",
    "There are 243.007 missing values of Customer ID and 4.382 missing values of product Description. <br>\n",
    "There are 34.335 duplicate records in the dataset. <br>\n",
    "The column 'Customer ID' has the wrong data type."
   ]
  },
  {
   "cell_type": "markdown",
   "id": "e7a30dea",
   "metadata": {},
   "source": [
    "#### Data Cleaning"
   ]
  },
  {
   "cell_type": "code",
   "execution_count": 4,
   "id": "f6a01380",
   "metadata": {},
   "outputs": [
    {
     "data": {
      "application/vnd.microsoft.datawrangler.viewer.v0+json": {
       "columns": [
        {
         "name": "index",
         "rawType": "object",
         "type": "string"
        },
        {
         "name": "0",
         "rawType": "int64",
         "type": "integer"
        }
       ],
       "ref": "98b05620-ae02-4053-bee7-1f73e9376a4a",
       "rows": [
        [
         "Invoice",
         "0"
        ],
        [
         "StockCode",
         "0"
        ],
        [
         "Description",
         "0"
        ],
        [
         "Quantity",
         "0"
        ],
        [
         "InvoiceDate",
         "0"
        ],
        [
         "Price",
         "0"
        ],
        [
         "Customer ID",
         "0"
        ],
        [
         "Country",
         "0"
        ]
       ],
       "shape": {
        "columns": 1,
        "rows": 8
       }
      },
      "text/plain": [
       "Invoice        0\n",
       "StockCode      0\n",
       "Description    0\n",
       "Quantity       0\n",
       "InvoiceDate    0\n",
       "Price          0\n",
       "Customer ID    0\n",
       "Country        0\n",
       "dtype: int64"
      ]
     },
     "execution_count": 4,
     "metadata": {},
     "output_type": "execute_result"
    }
   ],
   "source": [
    "# Drop missing values\n",
    "sales = sales.dropna()\n",
    "sales.isna().sum()"
   ]
  },
  {
   "cell_type": "code",
   "execution_count": 5,
   "id": "7ce54021",
   "metadata": {},
   "outputs": [
    {
     "data": {
      "text/plain": [
       "np.int64(0)"
      ]
     },
     "execution_count": 5,
     "metadata": {},
     "output_type": "execute_result"
    }
   ],
   "source": [
    "# Drop duplicate\n",
    "sales = sales.drop_duplicates()\n",
    "sales.duplicated().sum()"
   ]
  },
  {
   "cell_type": "code",
   "execution_count": 6,
   "id": "8b123ce5",
   "metadata": {},
   "outputs": [
    {
     "name": "stdout",
     "output_type": "stream",
     "text": [
      "<class 'pandas.core.frame.DataFrame'>\n",
      "Index: 797885 entries, 0 to 1067370\n",
      "Data columns (total 8 columns):\n",
      " #   Column       Non-Null Count   Dtype        \n",
      "---  ------       --------------   -----        \n",
      " 0   Invoice      797885 non-null  object       \n",
      " 1   StockCode    797885 non-null  object       \n",
      " 2   Description  797885 non-null  object       \n",
      " 3   Quantity     797885 non-null  int64        \n",
      " 4   InvoiceDate  797885 non-null  datetime64[s]\n",
      " 5   Price        797885 non-null  float64      \n",
      " 6   Customer ID  797885 non-null  object       \n",
      " 7   Country      797885 non-null  object       \n",
      "dtypes: datetime64[s](1), float64(1), int64(1), object(5)\n",
      "memory usage: 54.8+ MB\n"
     ]
    }
   ],
   "source": [
    "# Convert columns data types into the right one\n",
    "sales['Customer ID'] = sales['Customer ID'].astype('str')\n",
    "sales.info()"
   ]
  },
  {
   "cell_type": "code",
   "execution_count": 7,
   "id": "75bf6f5c",
   "metadata": {},
   "outputs": [
    {
     "data": {
      "application/vnd.microsoft.datawrangler.viewer.v0+json": {
       "columns": [
        {
         "name": "index",
         "rawType": "int64",
         "type": "integer"
        },
        {
         "name": "Invoice",
         "rawType": "object",
         "type": "string"
        },
        {
         "name": "StockCode",
         "rawType": "object",
         "type": "string"
        },
        {
         "name": "Description",
         "rawType": "object",
         "type": "string"
        },
        {
         "name": "Quantity",
         "rawType": "int64",
         "type": "integer"
        },
        {
         "name": "InvoiceDate",
         "rawType": "datetime64[s]",
         "type": "unknown"
        },
        {
         "name": "Price",
         "rawType": "float64",
         "type": "float"
        },
        {
         "name": "Customer ID",
         "rawType": "object",
         "type": "string"
        },
        {
         "name": "Country",
         "rawType": "object",
         "type": "string"
        },
        {
         "name": "Total Sales",
         "rawType": "float64",
         "type": "float"
        }
       ],
       "ref": "64bbba21-140a-4701-8ec0-0ab3c4f05fc4",
       "rows": [
        [
         "0",
         "489434",
         "85048",
         "15CM CHRISTMAS GLASS BALL 20 LIGHTS",
         "12",
         "2009-12-01 07:45:00",
         "6.95",
         "13085.0",
         "United Kingdom",
         "83.4"
        ],
        [
         "1",
         "489434",
         "79323P",
         "PINK CHERRY LIGHTS",
         "12",
         "2009-12-01 07:45:00",
         "6.75",
         "13085.0",
         "United Kingdom",
         "81.0"
        ],
        [
         "2",
         "489434",
         "79323W",
         " WHITE CHERRY LIGHTS",
         "12",
         "2009-12-01 07:45:00",
         "6.75",
         "13085.0",
         "United Kingdom",
         "81.0"
        ],
        [
         "3",
         "489434",
         "22041",
         "RECORD FRAME 7\" SINGLE SIZE ",
         "48",
         "2009-12-01 07:45:00",
         "2.1",
         "13085.0",
         "United Kingdom",
         "100.8"
        ],
        [
         "4",
         "489434",
         "21232",
         "STRAWBERRY CERAMIC TRINKET BOX",
         "24",
         "2009-12-01 07:45:00",
         "1.25",
         "13085.0",
         "United Kingdom",
         "30.0"
        ]
       ],
       "shape": {
        "columns": 9,
        "rows": 5
       }
      },
      "text/html": [
       "<div>\n",
       "<style scoped>\n",
       "    .dataframe tbody tr th:only-of-type {\n",
       "        vertical-align: middle;\n",
       "    }\n",
       "\n",
       "    .dataframe tbody tr th {\n",
       "        vertical-align: top;\n",
       "    }\n",
       "\n",
       "    .dataframe thead th {\n",
       "        text-align: right;\n",
       "    }\n",
       "</style>\n",
       "<table border=\"1\" class=\"dataframe\">\n",
       "  <thead>\n",
       "    <tr style=\"text-align: right;\">\n",
       "      <th></th>\n",
       "      <th>Invoice</th>\n",
       "      <th>StockCode</th>\n",
       "      <th>Description</th>\n",
       "      <th>Quantity</th>\n",
       "      <th>InvoiceDate</th>\n",
       "      <th>Price</th>\n",
       "      <th>Customer ID</th>\n",
       "      <th>Country</th>\n",
       "      <th>Total Sales</th>\n",
       "    </tr>\n",
       "  </thead>\n",
       "  <tbody>\n",
       "    <tr>\n",
       "      <th>0</th>\n",
       "      <td>489434</td>\n",
       "      <td>85048</td>\n",
       "      <td>15CM CHRISTMAS GLASS BALL 20 LIGHTS</td>\n",
       "      <td>12</td>\n",
       "      <td>2009-12-01 07:45:00</td>\n",
       "      <td>6.95</td>\n",
       "      <td>13085.0</td>\n",
       "      <td>United Kingdom</td>\n",
       "      <td>83.4</td>\n",
       "    </tr>\n",
       "    <tr>\n",
       "      <th>1</th>\n",
       "      <td>489434</td>\n",
       "      <td>79323P</td>\n",
       "      <td>PINK CHERRY LIGHTS</td>\n",
       "      <td>12</td>\n",
       "      <td>2009-12-01 07:45:00</td>\n",
       "      <td>6.75</td>\n",
       "      <td>13085.0</td>\n",
       "      <td>United Kingdom</td>\n",
       "      <td>81.0</td>\n",
       "    </tr>\n",
       "    <tr>\n",
       "      <th>2</th>\n",
       "      <td>489434</td>\n",
       "      <td>79323W</td>\n",
       "      <td>WHITE CHERRY LIGHTS</td>\n",
       "      <td>12</td>\n",
       "      <td>2009-12-01 07:45:00</td>\n",
       "      <td>6.75</td>\n",
       "      <td>13085.0</td>\n",
       "      <td>United Kingdom</td>\n",
       "      <td>81.0</td>\n",
       "    </tr>\n",
       "    <tr>\n",
       "      <th>3</th>\n",
       "      <td>489434</td>\n",
       "      <td>22041</td>\n",
       "      <td>RECORD FRAME 7\" SINGLE SIZE</td>\n",
       "      <td>48</td>\n",
       "      <td>2009-12-01 07:45:00</td>\n",
       "      <td>2.10</td>\n",
       "      <td>13085.0</td>\n",
       "      <td>United Kingdom</td>\n",
       "      <td>100.8</td>\n",
       "    </tr>\n",
       "    <tr>\n",
       "      <th>4</th>\n",
       "      <td>489434</td>\n",
       "      <td>21232</td>\n",
       "      <td>STRAWBERRY CERAMIC TRINKET BOX</td>\n",
       "      <td>24</td>\n",
       "      <td>2009-12-01 07:45:00</td>\n",
       "      <td>1.25</td>\n",
       "      <td>13085.0</td>\n",
       "      <td>United Kingdom</td>\n",
       "      <td>30.0</td>\n",
       "    </tr>\n",
       "  </tbody>\n",
       "</table>\n",
       "</div>"
      ],
      "text/plain": [
       "  Invoice StockCode                          Description  Quantity  \\\n",
       "0  489434     85048  15CM CHRISTMAS GLASS BALL 20 LIGHTS        12   \n",
       "1  489434    79323P                   PINK CHERRY LIGHTS        12   \n",
       "2  489434    79323W                  WHITE CHERRY LIGHTS        12   \n",
       "3  489434     22041         RECORD FRAME 7\" SINGLE SIZE         48   \n",
       "4  489434     21232       STRAWBERRY CERAMIC TRINKET BOX        24   \n",
       "\n",
       "          InvoiceDate  Price Customer ID         Country  Total Sales  \n",
       "0 2009-12-01 07:45:00   6.95     13085.0  United Kingdom         83.4  \n",
       "1 2009-12-01 07:45:00   6.75     13085.0  United Kingdom         81.0  \n",
       "2 2009-12-01 07:45:00   6.75     13085.0  United Kingdom         81.0  \n",
       "3 2009-12-01 07:45:00   2.10     13085.0  United Kingdom        100.8  \n",
       "4 2009-12-01 07:45:00   1.25     13085.0  United Kingdom         30.0  "
      ]
     },
     "execution_count": 7,
     "metadata": {},
     "output_type": "execute_result"
    }
   ],
   "source": [
    "# Create new column to count the total price\n",
    "sales['Total Sales'] = np.round((sales['Price'] * sales['Quantity']), 2)\n",
    "sales.head()"
   ]
  },
  {
   "cell_type": "code",
   "execution_count": 8,
   "id": "4e7aa9cd",
   "metadata": {},
   "outputs": [
    {
     "data": {
      "application/vnd.microsoft.datawrangler.viewer.v0+json": {
       "columns": [
        {
         "name": "index",
         "rawType": "int64",
         "type": "integer"
        },
        {
         "name": "Invoice",
         "rawType": "object",
         "type": "string"
        },
        {
         "name": "StockCode",
         "rawType": "object",
         "type": "string"
        },
        {
         "name": "Description",
         "rawType": "object",
         "type": "string"
        },
        {
         "name": "Quantity",
         "rawType": "int64",
         "type": "integer"
        },
        {
         "name": "InvoiceDate",
         "rawType": "datetime64[s]",
         "type": "unknown"
        },
        {
         "name": "Price",
         "rawType": "float64",
         "type": "float"
        },
        {
         "name": "Customer ID",
         "rawType": "object",
         "type": "string"
        },
        {
         "name": "Country",
         "rawType": "object",
         "type": "string"
        },
        {
         "name": "Total Sales",
         "rawType": "float64",
         "type": "float"
        },
        {
         "name": "Hour",
         "rawType": "int32",
         "type": "integer"
        },
        {
         "name": "Day",
         "rawType": "int32",
         "type": "integer"
        },
        {
         "name": "Month",
         "rawType": "int32",
         "type": "integer"
        },
        {
         "name": "Year",
         "rawType": "int32",
         "type": "integer"
        }
       ],
       "ref": "eb23b2b4-ebd3-4cc7-9165-dedb3141d59a",
       "rows": [
        [
         "0",
         "489434",
         "85048",
         "15CM CHRISTMAS GLASS BALL 20 LIGHTS",
         "12",
         "2009-12-01 07:45:00",
         "6.95",
         "13085.0",
         "United Kingdom",
         "83.4",
         "7",
         "1",
         "12",
         "2009"
        ],
        [
         "1",
         "489434",
         "79323P",
         "PINK CHERRY LIGHTS",
         "12",
         "2009-12-01 07:45:00",
         "6.75",
         "13085.0",
         "United Kingdom",
         "81.0",
         "7",
         "1",
         "12",
         "2009"
        ],
        [
         "2",
         "489434",
         "79323W",
         " WHITE CHERRY LIGHTS",
         "12",
         "2009-12-01 07:45:00",
         "6.75",
         "13085.0",
         "United Kingdom",
         "81.0",
         "7",
         "1",
         "12",
         "2009"
        ],
        [
         "3",
         "489434",
         "22041",
         "RECORD FRAME 7\" SINGLE SIZE ",
         "48",
         "2009-12-01 07:45:00",
         "2.1",
         "13085.0",
         "United Kingdom",
         "100.8",
         "7",
         "1",
         "12",
         "2009"
        ],
        [
         "4",
         "489434",
         "21232",
         "STRAWBERRY CERAMIC TRINKET BOX",
         "24",
         "2009-12-01 07:45:00",
         "1.25",
         "13085.0",
         "United Kingdom",
         "30.0",
         "7",
         "1",
         "12",
         "2009"
        ]
       ],
       "shape": {
        "columns": 13,
        "rows": 5
       }
      },
      "text/html": [
       "<div>\n",
       "<style scoped>\n",
       "    .dataframe tbody tr th:only-of-type {\n",
       "        vertical-align: middle;\n",
       "    }\n",
       "\n",
       "    .dataframe tbody tr th {\n",
       "        vertical-align: top;\n",
       "    }\n",
       "\n",
       "    .dataframe thead th {\n",
       "        text-align: right;\n",
       "    }\n",
       "</style>\n",
       "<table border=\"1\" class=\"dataframe\">\n",
       "  <thead>\n",
       "    <tr style=\"text-align: right;\">\n",
       "      <th></th>\n",
       "      <th>Invoice</th>\n",
       "      <th>StockCode</th>\n",
       "      <th>Description</th>\n",
       "      <th>Quantity</th>\n",
       "      <th>InvoiceDate</th>\n",
       "      <th>Price</th>\n",
       "      <th>Customer ID</th>\n",
       "      <th>Country</th>\n",
       "      <th>Total Sales</th>\n",
       "      <th>Hour</th>\n",
       "      <th>Day</th>\n",
       "      <th>Month</th>\n",
       "      <th>Year</th>\n",
       "    </tr>\n",
       "  </thead>\n",
       "  <tbody>\n",
       "    <tr>\n",
       "      <th>0</th>\n",
       "      <td>489434</td>\n",
       "      <td>85048</td>\n",
       "      <td>15CM CHRISTMAS GLASS BALL 20 LIGHTS</td>\n",
       "      <td>12</td>\n",
       "      <td>2009-12-01 07:45:00</td>\n",
       "      <td>6.95</td>\n",
       "      <td>13085.0</td>\n",
       "      <td>United Kingdom</td>\n",
       "      <td>83.4</td>\n",
       "      <td>7</td>\n",
       "      <td>1</td>\n",
       "      <td>12</td>\n",
       "      <td>2009</td>\n",
       "    </tr>\n",
       "    <tr>\n",
       "      <th>1</th>\n",
       "      <td>489434</td>\n",
       "      <td>79323P</td>\n",
       "      <td>PINK CHERRY LIGHTS</td>\n",
       "      <td>12</td>\n",
       "      <td>2009-12-01 07:45:00</td>\n",
       "      <td>6.75</td>\n",
       "      <td>13085.0</td>\n",
       "      <td>United Kingdom</td>\n",
       "      <td>81.0</td>\n",
       "      <td>7</td>\n",
       "      <td>1</td>\n",
       "      <td>12</td>\n",
       "      <td>2009</td>\n",
       "    </tr>\n",
       "    <tr>\n",
       "      <th>2</th>\n",
       "      <td>489434</td>\n",
       "      <td>79323W</td>\n",
       "      <td>WHITE CHERRY LIGHTS</td>\n",
       "      <td>12</td>\n",
       "      <td>2009-12-01 07:45:00</td>\n",
       "      <td>6.75</td>\n",
       "      <td>13085.0</td>\n",
       "      <td>United Kingdom</td>\n",
       "      <td>81.0</td>\n",
       "      <td>7</td>\n",
       "      <td>1</td>\n",
       "      <td>12</td>\n",
       "      <td>2009</td>\n",
       "    </tr>\n",
       "    <tr>\n",
       "      <th>3</th>\n",
       "      <td>489434</td>\n",
       "      <td>22041</td>\n",
       "      <td>RECORD FRAME 7\" SINGLE SIZE</td>\n",
       "      <td>48</td>\n",
       "      <td>2009-12-01 07:45:00</td>\n",
       "      <td>2.10</td>\n",
       "      <td>13085.0</td>\n",
       "      <td>United Kingdom</td>\n",
       "      <td>100.8</td>\n",
       "      <td>7</td>\n",
       "      <td>1</td>\n",
       "      <td>12</td>\n",
       "      <td>2009</td>\n",
       "    </tr>\n",
       "    <tr>\n",
       "      <th>4</th>\n",
       "      <td>489434</td>\n",
       "      <td>21232</td>\n",
       "      <td>STRAWBERRY CERAMIC TRINKET BOX</td>\n",
       "      <td>24</td>\n",
       "      <td>2009-12-01 07:45:00</td>\n",
       "      <td>1.25</td>\n",
       "      <td>13085.0</td>\n",
       "      <td>United Kingdom</td>\n",
       "      <td>30.0</td>\n",
       "      <td>7</td>\n",
       "      <td>1</td>\n",
       "      <td>12</td>\n",
       "      <td>2009</td>\n",
       "    </tr>\n",
       "  </tbody>\n",
       "</table>\n",
       "</div>"
      ],
      "text/plain": [
       "  Invoice StockCode                          Description  Quantity  \\\n",
       "0  489434     85048  15CM CHRISTMAS GLASS BALL 20 LIGHTS        12   \n",
       "1  489434    79323P                   PINK CHERRY LIGHTS        12   \n",
       "2  489434    79323W                  WHITE CHERRY LIGHTS        12   \n",
       "3  489434     22041         RECORD FRAME 7\" SINGLE SIZE         48   \n",
       "4  489434     21232       STRAWBERRY CERAMIC TRINKET BOX        24   \n",
       "\n",
       "          InvoiceDate  Price Customer ID         Country  Total Sales  Hour  \\\n",
       "0 2009-12-01 07:45:00   6.95     13085.0  United Kingdom         83.4     7   \n",
       "1 2009-12-01 07:45:00   6.75     13085.0  United Kingdom         81.0     7   \n",
       "2 2009-12-01 07:45:00   6.75     13085.0  United Kingdom         81.0     7   \n",
       "3 2009-12-01 07:45:00   2.10     13085.0  United Kingdom        100.8     7   \n",
       "4 2009-12-01 07:45:00   1.25     13085.0  United Kingdom         30.0     7   \n",
       "\n",
       "   Day  Month  Year  \n",
       "0    1     12  2009  \n",
       "1    1     12  2009  \n",
       "2    1     12  2009  \n",
       "3    1     12  2009  \n",
       "4    1     12  2009  "
      ]
     },
     "execution_count": 8,
     "metadata": {},
     "output_type": "execute_result"
    }
   ],
   "source": [
    "# Extract Hour from invoice date\n",
    "sales['Hour'] = sales['InvoiceDate'].dt.hour\n",
    "\n",
    "# Extract Day from invoice date\n",
    "sales['Day'] = sales['InvoiceDate'].dt.day\n",
    "\n",
    "# Extract Month from invoice date\n",
    "sales['Month'] = sales['InvoiceDate'].dt.month\n",
    "\n",
    "# Extract year from invoice date\n",
    "sales['Year'] = sales['InvoiceDate'].dt.year\n",
    "\n",
    "# Check the dataset\n",
    "sales.head()"
   ]
  },
  {
   "cell_type": "code",
   "execution_count": 9,
   "id": "edc73b5b",
   "metadata": {},
   "outputs": [
    {
     "name": "stdout",
     "output_type": "stream",
     "text": [
      "<class 'pandas.core.frame.DataFrame'>\n",
      "Index: 797885 entries, 0 to 1067370\n",
      "Data columns (total 13 columns):\n",
      " #   Column       Non-Null Count   Dtype        \n",
      "---  ------       --------------   -----        \n",
      " 0   Invoice      797885 non-null  object       \n",
      " 1   StockCode    797885 non-null  object       \n",
      " 2   Description  797885 non-null  object       \n",
      " 3   Quantity     797885 non-null  int64        \n",
      " 4   InvoiceDate  797885 non-null  datetime64[s]\n",
      " 5   Price        797885 non-null  float64      \n",
      " 6   Customer ID  797885 non-null  object       \n",
      " 7   Country      797885 non-null  object       \n",
      " 8   Total Sales  797885 non-null  float64      \n",
      " 9   Hour         797885 non-null  int32        \n",
      " 10  Day          797885 non-null  int32        \n",
      " 11  Month        797885 non-null  int32        \n",
      " 12  Year         797885 non-null  int32        \n",
      "dtypes: datetime64[s](1), float64(2), int32(4), int64(1), object(5)\n",
      "memory usage: 73.0+ MB\n"
     ]
    }
   ],
   "source": [
    "sales.info()"
   ]
  },
  {
   "cell_type": "markdown",
   "id": "78fbc2d1",
   "metadata": {},
   "source": [
    "#### Exploratory Data Analysis"
   ]
  },
  {
   "cell_type": "code",
   "execution_count": 10,
   "id": "1d960f2a",
   "metadata": {},
   "outputs": [
    {
     "data": {
      "application/vnd.microsoft.datawrangler.viewer.v0+json": {
       "columns": [
        {
         "name": "index",
         "rawType": "int64",
         "type": "integer"
        },
        {
         "name": "Year",
         "rawType": "int32",
         "type": "integer"
        },
        {
         "name": "Month",
         "rawType": "int32",
         "type": "integer"
        },
        {
         "name": "Total Sales",
         "rawType": "float64",
         "type": "float"
        },
        {
         "name": "Period",
         "rawType": "datetime64[ns]",
         "type": "datetime"
        }
       ],
       "ref": "1abd4dcd-db0c-490e-b2a3-d26aeecd2582",
       "rows": [
        [
         "0",
         "2009",
         "12",
         "660125.1",
         "2009-12-01 00:00:00"
        ],
        [
         "1",
         "2010",
         "1",
         "530436.51",
         "2010-01-01 00:00:00"
        ],
        [
         "2",
         "2010",
         "2",
         "487596.42",
         "2010-02-01 00:00:00"
        ],
        [
         "3",
         "2010",
         "3",
         "633419.31",
         "2010-03-01 00:00:00"
        ],
        [
         "4",
         "2010",
         "4",
         "558007.83",
         "2010-04-01 00:00:00"
        ]
       ],
       "shape": {
        "columns": 4,
        "rows": 5
       }
      },
      "text/html": [
       "<div>\n",
       "<style scoped>\n",
       "    .dataframe tbody tr th:only-of-type {\n",
       "        vertical-align: middle;\n",
       "    }\n",
       "\n",
       "    .dataframe tbody tr th {\n",
       "        vertical-align: top;\n",
       "    }\n",
       "\n",
       "    .dataframe thead th {\n",
       "        text-align: right;\n",
       "    }\n",
       "</style>\n",
       "<table border=\"1\" class=\"dataframe\">\n",
       "  <thead>\n",
       "    <tr style=\"text-align: right;\">\n",
       "      <th></th>\n",
       "      <th>Year</th>\n",
       "      <th>Month</th>\n",
       "      <th>Total Sales</th>\n",
       "      <th>Period</th>\n",
       "    </tr>\n",
       "  </thead>\n",
       "  <tbody>\n",
       "    <tr>\n",
       "      <th>0</th>\n",
       "      <td>2009</td>\n",
       "      <td>12</td>\n",
       "      <td>660125.10</td>\n",
       "      <td>2009-12-01</td>\n",
       "    </tr>\n",
       "    <tr>\n",
       "      <th>1</th>\n",
       "      <td>2010</td>\n",
       "      <td>1</td>\n",
       "      <td>530436.51</td>\n",
       "      <td>2010-01-01</td>\n",
       "    </tr>\n",
       "    <tr>\n",
       "      <th>2</th>\n",
       "      <td>2010</td>\n",
       "      <td>2</td>\n",
       "      <td>487596.42</td>\n",
       "      <td>2010-02-01</td>\n",
       "    </tr>\n",
       "    <tr>\n",
       "      <th>3</th>\n",
       "      <td>2010</td>\n",
       "      <td>3</td>\n",
       "      <td>633419.31</td>\n",
       "      <td>2010-03-01</td>\n",
       "    </tr>\n",
       "    <tr>\n",
       "      <th>4</th>\n",
       "      <td>2010</td>\n",
       "      <td>4</td>\n",
       "      <td>558007.83</td>\n",
       "      <td>2010-04-01</td>\n",
       "    </tr>\n",
       "  </tbody>\n",
       "</table>\n",
       "</div>"
      ],
      "text/plain": [
       "   Year  Month  Total Sales     Period\n",
       "0  2009     12    660125.10 2009-12-01\n",
       "1  2010      1    530436.51 2010-01-01\n",
       "2  2010      2    487596.42 2010-02-01\n",
       "3  2010      3    633419.31 2010-03-01\n",
       "4  2010      4    558007.83 2010-04-01"
      ]
     },
     "execution_count": 10,
     "metadata": {},
     "output_type": "execute_result"
    }
   ],
   "source": [
    "# Sales trend\n",
    "sales_trend = sales.groupby(['Year', 'Month'])['Total Sales'].sum().reset_index()\n",
    "\n",
    "# Combine Year and Month into a single datetime column\n",
    "sales_trend['Period'] = pd.to_datetime(sales_trend[['Year', 'Month']].assign(DAY=1))\n",
    "\n",
    "sales_trend.head()"
   ]
  },
  {
   "cell_type": "code",
   "execution_count": 11,
   "id": "0922355c",
   "metadata": {},
   "outputs": [
    {
     "data": {
      "image/png": "[encoded data removed]",
      "text/plain": [
       "<Figure size 1200x600 with 1 Axes>"
      ]
     },
     "metadata": {},
     "output_type": "display_data"
    }
   ],
   "source": [
    "plt.figure(figsize=(12, 6))\n",
    "sns.lineplot(data=sales_trend, x='Period', y='Total Sales', marker='o')\n",
    "plt.title('Sales Trend Over Time')\n",
    "plt.xlabel('Period')\n",
    "plt.ylabel('Total Sales')\n",
    "plt.grid(True)\n",
    "plt.xticks(rotation=45)\n",
    "plt.tight_layout()\n",
    "plt.show()"
   ]
  },
  {
   "cell_type": "code",
   "execution_count": 12,
   "id": "feff0ea6",
   "metadata": {},
   "outputs": [],
   "source": [
    "# Top Products\n",
    "top_products = sales.groupby(['StockCode', 'Description'])[['Quantity', 'Total Sales']].sum().reset_index()\n",
    "\n",
    "# Top products by Total Sales\n",
    "top_product_sales = top_products.sort_values(by='Total Sales', ascending=False)\n",
    "# Get top 10\n",
    "top_10_sales = top_product_sales.head(10)\n",
    "\n",
    "# Top products by Quantity sold\n",
    "top_product_qty = top_products.sort_values(by='Quantity', ascending=False)\n",
    "# Get top 10\n",
    "top_10_qty = top_product_qty.head(10)"
   ]
  },
  {
   "cell_type": "code",
   "execution_count": 13,
   "id": "13a0f041",
   "metadata": {},
   "outputs": [
    {
     "name": "stderr",
     "output_type": "stream",
     "text": [
      "C:\\Users\\dkpc2\\AppData\\Local\\Temp\\ipykernel_8008\\3690475079.py:3: FutureWarning: \n",
      "\n",
      "Passing `palette` without assigning `hue` is deprecated and will be removed in v0.14.0. Assign the `y` variable to `hue` and set `legend=False` for the same effect.\n",
      "\n",
      "  ax = sns.barplot(data=top_10_sales, y='Description', x='Total Sales', palette='Blues_d')\n"
     ]
    },
    {
     "data": {
      "image/png": "[encoded data removed]",
      "text/plain": [
       "<Figure size 1600x600 with 1 Axes>"
      ]
     },
     "metadata": {},
     "output_type": "display_data"
    }
   ],
   "source": [
    "# Top 10 Products by Sales\n",
    "plt.figure(figsize=(16, 6))\n",
    "ax = sns.barplot(data=top_10_sales, y='Description', x='Total Sales', palette='Blues_d')\n",
    "\n",
    "# Add data labels\n",
    "for i, value in enumerate(top_10_sales['Total Sales']):\n",
    "    plt.text(value, i, f'{value:,.0f}', va='center')  # format with comma, no decimal\n",
    "\n",
    "plt.title(\"Top 10 Products by Sales\")\n",
    "plt.xlabel(\"Total Sales\")\n",
    "plt.ylabel(\"Product\")\n",
    "plt.tight_layout()\n",
    "plt.show()\n"
   ]
  },
  {
   "cell_type": "code",
   "execution_count": 14,
   "id": "5a05887e",
   "metadata": {},
   "outputs": [
    {
     "name": "stderr",
     "output_type": "stream",
     "text": [
      "C:\\Users\\dkpc2\\AppData\\Local\\Temp\\ipykernel_8008\\1578255447.py:3: FutureWarning: \n",
      "\n",
      "Passing `palette` without assigning `hue` is deprecated and will be removed in v0.14.0. Assign the `y` variable to `hue` and set `legend=False` for the same effect.\n",
      "\n",
      "  ax = sns.barplot(data=top_10_qty, y='Description', x='Quantity', palette='Blues_d')\n"
     ]
    },
    {
     "data": {
      "image/png": "[encoded data removed]",
      "text/plain": [
       "<Figure size 1600x600 with 1 Axes>"
      ]
     },
     "metadata": {},
     "output_type": "display_data"
    }
   ],
   "source": [
    "# Top 10 Products by Sales\n",
    "plt.figure(figsize=(16, 6))\n",
    "ax = sns.barplot(data=top_10_qty, y='Description', x='Quantity', palette='Blues_d')\n",
    "\n",
    "# Add data labels\n",
    "for i, value in enumerate(top_10_qty['Quantity']):\n",
    "    plt.text(value, i, f'{value:,.0f}', va='center')  # format with comma, no decimal\n",
    "\n",
    "plt.title(\"Top 10 Products by Quantity Sold\")\n",
    "plt.xlabel(\"Quantity\")\n",
    "plt.ylabel(\"Product\")\n",
    "plt.tight_layout()\n",
    "plt.show()"
   ]
  },
  {
   "cell_type": "code",
   "execution_count": 15,
   "id": "ee084229",
   "metadata": {},
   "outputs": [
    {
     "data": {
      "application/vnd.microsoft.datawrangler.viewer.v0+json": {
       "columns": [
        {
         "name": "index",
         "rawType": "int64",
         "type": "integer"
        },
        {
         "name": "Customer ID",
         "rawType": "object",
         "type": "string"
        },
        {
         "name": "Total Sales",
         "rawType": "float64",
         "type": "float"
        }
       ],
       "ref": "60174bea-3362-4f9f-aacc-e6121c395f07",
       "rows": [
        [
         "5756",
         "18102.0",
         "570380.61"
        ],
        [
         "2300",
         "14646.0",
         "523342.07"
        ],
        [
         "1810",
         "14156.0",
         "296063.44"
        ],
        [
         "2565",
         "14911.0",
         "265757.91"
        ],
        [
         "5104",
         "17450.0",
         "231390.55"
        ],
        [
         "1348",
         "13694.0",
         "190020.84"
        ],
        [
         "5165",
         "17511.0",
         "168491.62"
        ],
        [
         "69",
         "12415.0",
         "143269.29"
        ],
        [
         "4338",
         "16684.0",
         "141502.25"
        ],
        [
         "2715",
         "15061.0",
         "124961.98"
        ]
       ],
       "shape": {
        "columns": 2,
        "rows": 10
       }
      },
      "text/html": [
       "<div>\n",
       "<style scoped>\n",
       "    .dataframe tbody tr th:only-of-type {\n",
       "        vertical-align: middle;\n",
       "    }\n",
       "\n",
       "    .dataframe tbody tr th {\n",
       "        vertical-align: top;\n",
       "    }\n",
       "\n",
       "    .dataframe thead th {\n",
       "        text-align: right;\n",
       "    }\n",
       "</style>\n",
       "<table border=\"1\" class=\"dataframe\">\n",
       "  <thead>\n",
       "    <tr style=\"text-align: right;\">\n",
       "      <th></th>\n",
       "      <th>Customer ID</th>\n",
       "      <th>Total Sales</th>\n",
       "    </tr>\n",
       "  </thead>\n",
       "  <tbody>\n",
       "    <tr>\n",
       "      <th>5756</th>\n",
       "      <td>18102.0</td>\n",
       "      <td>570380.61</td>\n",
       "    </tr>\n",
       "    <tr>\n",
       "      <th>2300</th>\n",
       "      <td>14646.0</td>\n",
       "      <td>523342.07</td>\n",
       "    </tr>\n",
       "    <tr>\n",
       "      <th>1810</th>\n",
       "      <td>14156.0</td>\n",
       "      <td>296063.44</td>\n",
       "    </tr>\n",
       "    <tr>\n",
       "      <th>2565</th>\n",
       "      <td>14911.0</td>\n",
       "      <td>265757.91</td>\n",
       "    </tr>\n",
       "    <tr>\n",
       "      <th>5104</th>\n",
       "      <td>17450.0</td>\n",
       "      <td>231390.55</td>\n",
       "    </tr>\n",
       "    <tr>\n",
       "      <th>1348</th>\n",
       "      <td>13694.0</td>\n",
       "      <td>190020.84</td>\n",
       "    </tr>\n",
       "    <tr>\n",
       "      <th>5165</th>\n",
       "      <td>17511.0</td>\n",
       "      <td>168491.62</td>\n",
       "    </tr>\n",
       "    <tr>\n",
       "      <th>69</th>\n",
       "      <td>12415.0</td>\n",
       "      <td>143269.29</td>\n",
       "    </tr>\n",
       "    <tr>\n",
       "      <th>4338</th>\n",
       "      <td>16684.0</td>\n",
       "      <td>141502.25</td>\n",
       "    </tr>\n",
       "    <tr>\n",
       "      <th>2715</th>\n",
       "      <td>15061.0</td>\n",
       "      <td>124961.98</td>\n",
       "    </tr>\n",
       "  </tbody>\n",
       "</table>\n",
       "</div>"
      ],
      "text/plain": [
       "     Customer ID  Total Sales\n",
       "5756     18102.0    570380.61\n",
       "2300     14646.0    523342.07\n",
       "1810     14156.0    296063.44\n",
       "2565     14911.0    265757.91\n",
       "5104     17450.0    231390.55\n",
       "1348     13694.0    190020.84\n",
       "5165     17511.0    168491.62\n",
       "69       12415.0    143269.29\n",
       "4338     16684.0    141502.25\n",
       "2715     15061.0    124961.98"
      ]
     },
     "execution_count": 15,
     "metadata": {},
     "output_type": "execute_result"
    }
   ],
   "source": [
    "# Most valuable customers\n",
    "valuable_cust = sales.groupby(['Customer ID'])['Total Sales'].sum().reset_index()\n",
    "valuable_cust = valuable_cust.sort_values(by='Total Sales', ascending=False)\n",
    "top10_val_cust = valuable_cust.head(10)\n",
    "top10_val_cust"
   ]
  },
  {
   "cell_type": "code",
   "execution_count": 16,
   "id": "260788da",
   "metadata": {},
   "outputs": [
    {
     "name": "stderr",
     "output_type": "stream",
     "text": [
      "C:\\Users\\dkpc2\\AppData\\Local\\Temp\\ipykernel_8008\\1116417620.py:3: FutureWarning: \n",
      "\n",
      "Passing `palette` without assigning `hue` is deprecated and will be removed in v0.14.0. Assign the `y` variable to `hue` and set `legend=False` for the same effect.\n",
      "\n",
      "  ax = sns.barplot(data=top10_val_cust, y='Customer ID', x='Total Sales', palette='viridis')\n"
     ]
    },
    {
     "data": {
      "image/png": "[encoded data removed]",
      "text/plain": [
       "<Figure size 1600x600 with 1 Axes>"
      ]
     },
     "metadata": {},
     "output_type": "display_data"
    }
   ],
   "source": [
    "# Top Customer\n",
    "plt.figure(figsize=(16, 6))\n",
    "ax = sns.barplot(data=top10_val_cust, y='Customer ID', x='Total Sales', palette='viridis')\n",
    "\n",
    "# Add data labels\n",
    "for i, value in enumerate(top10_val_cust['Total Sales']):\n",
    "    plt.text(value, i, f'{value:,.0f}', va='center')  # format with comma, no decimal\n",
    "\n",
    "plt.title(\"Top 10 Most Valuable Customers\")\n",
    "plt.xlabel(\"Total Sales\")\n",
    "plt.ylabel(\"Customer ID\")\n",
    "plt.tight_layout()\n",
    "plt.show()"
   ]
  },
  {
   "cell_type": "code",
   "execution_count": 17,
   "id": "2fdc1bef",
   "metadata": {},
   "outputs": [],
   "source": [
    "# Top Country Contributed to sales\n",
    "top_country = sales.groupby(['Country'])['Total Sales'].sum().reset_index()\n",
    "top_country = top_country.sort_values(by='Total Sales', ascending=False)\n",
    "top_10_country = top_country.head(10)"
   ]
  },
  {
   "cell_type": "code",
   "execution_count": 18,
   "id": "abd3f9ce",
   "metadata": {},
   "outputs": [
    {
     "name": "stderr",
     "output_type": "stream",
     "text": [
      "C:\\Users\\dkpc2\\AppData\\Local\\Temp\\ipykernel_8008\\3177377039.py:3: FutureWarning: \n",
      "\n",
      "Passing `palette` without assigning `hue` is deprecated and will be removed in v0.14.0. Assign the `y` variable to `hue` and set `legend=False` for the same effect.\n",
      "\n",
      "  ax = sns.barplot(data=top_10_country, y='Country', x='Total Sales', palette='viridis')\n"
     ]
    },
    {
     "data": {
      "image/png": "[encoded data removed]",
      "text/plain": [
       "<Figure size 1600x600 with 1 Axes>"
      ]
     },
     "metadata": {},
     "output_type": "display_data"
    }
   ],
   "source": [
    "# Top Country Contributed to sales\n",
    "plt.figure(figsize=(16, 6))\n",
    "ax = sns.barplot(data=top_10_country, y='Country', x='Total Sales', palette='viridis')\n",
    "\n",
    "# Add data labels\n",
    "for i, value in enumerate(top_10_country['Total Sales']):\n",
    "    plt.text(value, i, f'{value:,.0f}', va='center')  # format with comma, no decimal\n",
    "\n",
    "plt.title(\"Top 10 Country Contributed to Sales\")\n",
    "plt.xlabel(\"Total Sales\")\n",
    "plt.ylabel(\"Country\")\n",
    "plt.tight_layout()\n",
    "plt.show()"
   ]
  },
  {
   "cell_type": "markdown",
   "id": "7d8c3ae4",
   "metadata": {},
   "source": [
    "#### Customer Recency, Frequency, Monetary value, and segmentation"
   ]
  },
  {
   "cell_type": "code",
   "execution_count": 19,
   "id": "7a9011df",
   "metadata": {},
   "outputs": [
    {
     "data": {
      "application/vnd.microsoft.datawrangler.viewer.v0+json": {
       "columns": [
        {
         "name": "index",
         "rawType": "int64",
         "type": "integer"
        },
        {
         "name": "Customer ID",
         "rawType": "object",
         "type": "string"
        },
        {
         "name": "Recency",
         "rawType": "int64",
         "type": "integer"
        },
        {
         "name": "Frequency",
         "rawType": "int64",
         "type": "integer"
        },
        {
         "name": "Monetary",
         "rawType": "float64",
         "type": "float"
        },
        {
         "name": "R",
         "rawType": "category",
         "type": "unknown"
        },
        {
         "name": "F",
         "rawType": "category",
         "type": "unknown"
        },
        {
         "name": "M",
         "rawType": "category",
         "type": "unknown"
        }
       ],
       "ref": "ff8e5906-9fe5-46d7-92a3-ea4790ab1d98",
       "rows": [
        [
         "0",
         "12346.0",
         "326",
         "17",
         "-51.74000000000524",
         "2",
         "5",
         "1"
        ],
        [
         "1",
         "12347.0",
         "2",
         "8",
         "4921.53",
         "5",
         "4",
         "5"
        ],
        [
         "2",
         "12348.0",
         "75",
         "5",
         "2019.4",
         "3",
         "3",
         "4"
        ],
        [
         "3",
         "12349.0",
         "19",
         "5",
         "4404.54",
         "4",
         "3",
         "5"
        ],
        [
         "4",
         "12350.0",
         "310",
         "1",
         "334.4",
         "2",
         "1",
         "2"
        ]
       ],
       "shape": {
        "columns": 7,
        "rows": 5
       }
      },
      "text/html": [
       "<div>\n",
       "<style scoped>\n",
       "    .dataframe tbody tr th:only-of-type {\n",
       "        vertical-align: middle;\n",
       "    }\n",
       "\n",
       "    .dataframe tbody tr th {\n",
       "        vertical-align: top;\n",
       "    }\n",
       "\n",
       "    .dataframe thead th {\n",
       "        text-align: right;\n",
       "    }\n",
       "</style>\n",
       "<table border=\"1\" class=\"dataframe\">\n",
       "  <thead>\n",
       "    <tr style=\"text-align: right;\">\n",
       "      <th></th>\n",
       "      <th>Customer ID</th>\n",
       "      <th>Recency</th>\n",
       "      <th>Frequency</th>\n",
       "      <th>Monetary</th>\n",
       "      <th>R</th>\n",
       "      <th>F</th>\n",
       "      <th>M</th>\n",
       "    </tr>\n",
       "  </thead>\n",
       "  <tbody>\n",
       "    <tr>\n",
       "      <th>0</th>\n",
       "      <td>12346.0</td>\n",
       "      <td>326</td>\n",
       "      <td>17</td>\n",
       "      <td>-51.74</td>\n",
       "      <td>2</td>\n",
       "      <td>5</td>\n",
       "      <td>1</td>\n",
       "    </tr>\n",
       "    <tr>\n",
       "      <th>1</th>\n",
       "      <td>12347.0</td>\n",
       "      <td>2</td>\n",
       "      <td>8</td>\n",
       "      <td>4921.53</td>\n",
       "      <td>5</td>\n",
       "      <td>4</td>\n",
       "      <td>5</td>\n",
       "    </tr>\n",
       "    <tr>\n",
       "      <th>2</th>\n",
       "      <td>12348.0</td>\n",
       "      <td>75</td>\n",
       "      <td>5</td>\n",
       "      <td>2019.40</td>\n",
       "      <td>3</td>\n",
       "      <td>3</td>\n",
       "      <td>4</td>\n",
       "    </tr>\n",
       "    <tr>\n",
       "      <th>3</th>\n",
       "      <td>12349.0</td>\n",
       "      <td>19</td>\n",
       "      <td>5</td>\n",
       "      <td>4404.54</td>\n",
       "      <td>4</td>\n",
       "      <td>3</td>\n",
       "      <td>5</td>\n",
       "    </tr>\n",
       "    <tr>\n",
       "      <th>4</th>\n",
       "      <td>12350.0</td>\n",
       "      <td>310</td>\n",
       "      <td>1</td>\n",
       "      <td>334.40</td>\n",
       "      <td>2</td>\n",
       "      <td>1</td>\n",
       "      <td>2</td>\n",
       "    </tr>\n",
       "  </tbody>\n",
       "</table>\n",
       "</div>"
      ],
      "text/plain": [
       "  Customer ID  Recency  Frequency  Monetary  R  F  M\n",
       "0     12346.0      326         17    -51.74  2  5  1\n",
       "1     12347.0        2          8   4921.53  5  4  5\n",
       "2     12348.0       75          5   2019.40  3  3  4\n",
       "3     12349.0       19          5   4404.54  4  3  5\n",
       "4     12350.0      310          1    334.40  2  1  2"
      ]
     },
     "execution_count": 19,
     "metadata": {},
     "output_type": "execute_result"
    }
   ],
   "source": [
    "# Snapshot date = date of last purchase in dataset + 1 day\n",
    "snapshot_date = sales['InvoiceDate'].max() + pd.Timedelta(days=1)\n",
    "\n",
    "# RFM Metrics\n",
    "rfm = sales.groupby('Customer ID').agg({\n",
    "    'InvoiceDate': lambda x: (snapshot_date - x.max()).days,  # Recency\n",
    "    'Invoice': 'nunique',                                   # Frequency\n",
    "    'Total Sales': 'sum'                                      # Monetary\n",
    "}).reset_index()\n",
    "\n",
    "# Rename columns\n",
    "rfm.columns = ['Customer ID', 'Recency', 'Frequency', 'Monetary']\n",
    "\n",
    "# RFM scoring (higher is better, so lower recency gets higher score)\n",
    "rfm['R'] = pd.qcut(rfm['Recency'], 5, labels=[5, 4, 3, 2, 1])\n",
    "rfm['F'] = pd.qcut(rfm['Frequency'].rank(method='first'), 5, labels=[1, 2, 3, 4, 5])\n",
    "rfm['M'] = pd.qcut(rfm['Monetary'], 5, labels=[1, 2, 3, 4, 5])\n",
    "\n",
    "# Show the data\n",
    "rfm.head()"
   ]
  },
  {
   "cell_type": "markdown",
   "id": "957a6b36",
   "metadata": {},
   "source": [
    "#### Customer Clustering using K-Means"
   ]
  },
  {
   "cell_type": "code",
   "execution_count": 20,
   "id": "62708471",
   "metadata": {},
   "outputs": [],
   "source": [
    "# Import library for clustering\n",
    "from sklearn.preprocessing import StandardScaler\n",
    "from sklearn.cluster import KMeans\n",
    "from yellowbrick.cluster import KElbowVisualizer\n",
    "from sklearn.cluster import KMeans\n",
    "import plotly.express as px"
   ]
  },
  {
   "cell_type": "code",
   "execution_count": 21,
   "id": "c746dacb",
   "metadata": {},
   "outputs": [],
   "source": [
    "# Select RFM features\n",
    "rfm_features = rfm[['Recency', 'Frequency', 'Monetary']]\n",
    "\n",
    "# Normalize the values\n",
    "scaler = StandardScaler()\n",
    "rfm_scaled = scaler.fit_transform(rfm_features)"
   ]
  },
  {
   "cell_type": "code",
   "execution_count": 22,
   "id": "e88048ee",
   "metadata": {},
   "outputs": [
    {
     "data": {
      "image/png": "[encoded data removed]",
      "text/plain": [
       "<Figure size 800x550 with 1 Axes>"
      ]
     },
     "metadata": {},
     "output_type": "display_data"
    },
    {
     "data": {
      "text/plain": [
       "<Axes: title={'center': 'Distortion Score Elbow for KMeans Clustering'}, xlabel='k', ylabel='distortion score'>"
      ]
     },
     "execution_count": 22,
     "metadata": {},
     "output_type": "execute_result"
    }
   ],
   "source": [
    "sse = []  # Sum of Squared Errors\n",
    "\n",
    "# Use KElbowVisualizer with KMeans\n",
    "model = KMeans(random_state=42)\n",
    "visualizer = KElbowVisualizer(model, k=(1, 10), metric='distortion', timings=False)\n",
    "\n",
    "# Fit the visualizer with the scaled RFM data\n",
    "visualizer.fit(rfm_scaled)\n",
    "visualizer.show()"
   ]
  },
  {
   "cell_type": "code",
   "execution_count": 23,
   "id": "1039c3b9",
   "metadata": {},
   "outputs": [],
   "source": [
    "# Fit KMeans with chosen k (k=4)\n",
    "kmeans = KMeans(n_clusters=4, random_state=42)\n",
    "rfm['Cluster'] = kmeans.fit_predict(rfm_scaled)"
   ]
  },
  {
   "cell_type": "code",
   "execution_count": 24,
   "id": "90835a99",
   "metadata": {},
   "outputs": [
    {
     "name": "stdout",
     "output_type": "stream",
     "text": [
      "   Cluster     Recency   Frequency       Monetary  Count\n",
      "0        0  466.260187    2.579283     606.487860   2037\n",
      "1        1   65.996378    8.783959    2795.071524   3865\n",
      "2        2   22.805556  128.972222   72113.334167     36\n",
      "3        3    3.500000  257.250000  413886.007500      4\n"
     ]
    }
   ],
   "source": [
    "# Group RFM by cluster\n",
    "cluster_summary = rfm.groupby('Cluster').agg({\n",
    "    'Recency': 'mean',\n",
    "    'Frequency': 'mean',\n",
    "    'Monetary': 'mean',\n",
    "    'Customer ID': 'count'\n",
    "}).rename(columns={'Customer ID': 'Count'}).reset_index()\n",
    "\n",
    "print(cluster_summary)\n"
   ]
  },
  {
   "cell_type": "markdown",
   "id": "fd70abe6",
   "metadata": {},
   "source": [
    "From the result given, there are 4 customer cluster. <br>\n",
    "1. Cluster 0: <br>\n",
    "Customers that haven't made purchase in a long time, have few purchases on average, and spent a little. This cluster represents Lapsed or At-Risk Low-Value Customers.\n",
    "2. Cluster 1: <br>\n",
    "Customers that purchase was relatively recent, purchase somewhat regularly, and contribute a decent amount of revenue. This cluster represents Active & Regular Customers or Potential Loyalists.\n",
    "3. Cluster 2:\n",
    "Customers that purchase very recently, purchase purchase very frequently, and spend a significant amount of money. This cluster represents Champions or High-Value Loyal Customers.\n",
    "4. Cluster 3:\n",
    "Customers that last purchase was exceptionally recent, purchase incredibly frequently, and spent exceptionally high. This cluster represents  Top VIP/Whale Customers."
   ]
  },
  {
   "cell_type": "markdown",
   "id": "6234e946",
   "metadata": {},
   "source": []
  },
  {
   "cell_type": "code",
   "execution_count": 25,
   "id": "a863814e",
   "metadata": {},
   "outputs": [
    {
     "data": {
      "application/vnd.plotly.v1+json": {
       "config": {
        "plotlyServerURL": "https://plot.ly"
       },
       "data": [
        {
         "hovertemplate": "Recency=%{x}<br>Frequency=%{y}<br>Monetary=%{z}<br>Cluster=%{marker.color}<extra></extra>",
         "legendgroup": "",
         "marker": {
          "color": {
           "bdata": "AAAAAAEAAAABAAAAAQAAAAAAAAAAAAAAAQAAAAEAAAABAAAAAQAAAAEAAAABAAAAAQAAAAEAAAABAAAAAAAAAAEAAAABAAAAAQAAAAAAAAAAAAAAAQAAAAAAAAAAAAAAAQAAAAEAAAABAAAAAAAAAAEAAAABAAAAAAAAAAAAAAABAAAAAQAAAAEAAAABAAAAAAAAAAEAAAABAAAAAAAAAAAAAAAAAAAAAQAAAAAAAAABAAAAAQAAAAAAAAABAAAAAQAAAAEAAAAAAAAAAQAAAAEAAAABAAAAAAAAAAAAAAAAAAAAAQAAAAAAAAABAAAAAQAAAAEAAAABAAAAAQAAAAAAAAAAAAAAAQAAAAEAAAABAAAAAgAAAAAAAAABAAAAAQAAAAAAAAABAAAAAQAAAAEAAAABAAAAAQAAAAEAAAABAAAAAQAAAAEAAAABAAAAAQAAAAEAAAABAAAAAQAAAAEAAAABAAAAAQAAAAEAAAABAAAAAAAAAAAAAAAAAAAAAQAAAAAAAAABAAAAAQAAAAEAAAABAAAAAQAAAAEAAAABAAAAAQAAAAEAAAABAAAAAQAAAAEAAAABAAAAAQAAAAEAAAAAAAAAAAAAAAEAAAABAAAAAQAAAAEAAAABAAAAAAAAAAAAAAABAAAAAAAAAAAAAAACAAAAAQAAAAEAAAABAAAAAQAAAAEAAAABAAAAAQAAAAEAAAABAAAAAQAAAAAAAAABAAAAAQAAAAAAAAAAAAAAAAAAAAEAAAAAAAAAAQAAAAEAAAABAAAAAQAAAAEAAAAAAAAAAAAAAAEAAAABAAAAAAAAAAEAAAAAAAAAAQAAAAAAAAABAAAAAAAAAAEAAAABAAAAAQAAAAAAAAABAAAAAAAAAAEAAAABAAAAAAAAAAAAAAABAAAAAQAAAAEAAAABAAAAAQAAAAEAAAABAAAAAQAAAAEAAAAAAAAAAQAAAAEAAAABAAAAAAAAAAEAAAABAAAAAQAAAAAAAAABAAAAAQAAAAEAAAAAAAAAAQAAAAEAAAABAAAAAQAAAAAAAAAAAAAAAQAAAAEAAAABAAAAAQAAAAEAAAAAAAAAAQAAAAAAAAABAAAAAQAAAAAAAAAAAAAAAQAAAAEAAAABAAAAAAAAAAEAAAAAAAAAAQAAAAAAAAAAAAAAAAAAAAEAAAABAAAAAAAAAAEAAAAAAAAAAQAAAAEAAAABAAAAAAAAAAAAAAABAAAAAQAAAAEAAAABAAAAAQAAAAEAAAABAAAAAQAAAAEAAAABAAAAAQAAAAEAAAABAAAAAQAAAAEAAAAAAAAAAQAAAAEAAAABAAAAAAAAAAEAAAABAAAAAQAAAAEAAAABAAAAAQAAAAEAAAABAAAAAQAAAAAAAAAAAAAAAQAAAAAAAAABAAAAAQAAAAEAAAABAAAAAQAAAAAAAAABAAAAAQAAAAEAAAABAAAAAQAAAAEAAAABAAAAAQAAAAEAAAABAAAAAQAAAAEAAAABAAAAAQAAAAAAAAABAAAAAQAAAAAAAAABAAAAAAAAAAEAAAAAAAAAAQAAAAEAAAABAAAAAQAAAAEAAAABAAAAAQAAAAEAAAABAAAAAQAAAAEAAAABAAAAAQAAAAEAAAAAAAAAAAAAAAEAAAABAAAAAAAAAAEAAAABAAAAAQAAAAEAAAABAAAAAAAAAAEAAAAAAAAAAQAAAAAAAAAAAAAAAQAAAAEAAAABAAAAAQAAAAAAAAAAAAAAAQAAAAEAAAAAAAAAAQAAAAAAAAABAAAAAQAAAAEAAAABAAAAAQAAAAEAAAABAAAAAQAAAAAAAAAAAAAAAQAAAAEAAAABAAAAAQAAAAAAAAABAAAAAQAAAAEAAAAAAAAAAQAAAAAAAAAAAAAAAQAAAAEAAAABAAAAAQAAAAEAAAABAAAAAAAAAAAAAAABAAAAAQAAAAEAAAAAAAAAAQAAAAEAAAABAAAAAQAAAAEAAAABAAAAAQAAAAEAAAABAAAAAQAAAAEAAAABAAAAAQAAAAAAAAABAAAAAQAAAAEAAAABAAAAAAAAAAEAAAABAAAAAQAAAAAAAAAAAAAAAAAAAAAAAAAAAAAAAQAAAAEAAAAAAAAAAAAAAAEAAAABAAAAAAAAAAAAAAABAAAAAgAAAAEAAAABAAAAAAAAAAEAAAABAAAAAQAAAAEAAAABAAAAAQAAAAEAAAABAAAAAAAAAAAAAAABAAAAAQAAAAAAAAAAAAAAAQAAAAAAAAAAAAAAAQAAAAEAAAAAAAAAAQAAAAAAAAAAAAAAAQAAAAAAAAAAAAAAAQAAAAEAAAAAAAAAAQAAAAEAAAABAAAAAQAAAAEAAAAAAAAAAQAAAAAAAAABAAAAAQAAAAAAAAABAAAAAAAAAAEAAAABAAAAAAAAAAAAAAABAAAAAAAAAAAAAAAAAAAAAQAAAAAAAAAAAAAAAAAAAAAAAAAAAAAAAQAAAAEAAAAAAAAAAQAAAAEAAAAAAAAAAQAAAAEAAAABAAAAAAAAAAEAAAAAAAAAAQAAAAEAAAABAAAAAQAAAAEAAAAAAAAAAQAAAAEAAAABAAAAAAAAAAEAAAAAAAAAAQAAAAEAAAAAAAAAAAAAAAEAAAABAAAAAQAAAAEAAAABAAAAAQAAAAEAAAABAAAAAQAAAAAAAAAAAAAAAQAAAAAAAAABAAAAAAAAAAEAAAAAAAAAAQAAAAEAAAAAAAAAAQAAAAEAAAAAAAAAAAAAAAAAAAAAAAAAAAAAAAEAAAABAAAAAQAAAAAAAAABAAAAAQAAAAAAAAAAAAAAAQAAAAAAAAAAAAAAAAAAAAEAAAABAAAAAQAAAAEAAAABAAAAAAAAAAAAAAABAAAAAQAAAAEAAAABAAAAAQAAAAAAAAABAAAAAAAAAAEAAAABAAAAAAAAAAEAAAAAAAAAAQAAAAAAAAABAAAAAAAAAAAAAAAAAAAAAQAAAAAAAAAAAAAAAQAAAAAAAAABAAAAAAAAAAEAAAABAAAAAQAAAAAAAAABAAAAAQAAAAAAAAABAAAAAQAAAAEAAAAAAAAAAQAAAAEAAAACAAAAAQAAAAEAAAABAAAAAQAAAAAAAAAAAAAAAQAAAAEAAAABAAAAAgAAAAAAAAABAAAAAAAAAAEAAAABAAAAAQAAAAEAAAABAAAAAQAAAAAAAAABAAAAAAAAAAEAAAAAAAAAAAAAAAEAAAABAAAAAQAAAAEAAAABAAAAAQAAAAEAAAAAAAAAAQAAAAAAAAABAAAAAAAAAAAAAAAAAAAAAAAAAAEAAAABAAAAAAAAAAEAAAABAAAAAQAAAAEAAAAAAAAAAQAAAAIAAAAAAAAAAAAAAAEAAAAAAAAAAQAAAAEAAAAAAAAAAAAAAAEAAAABAAAAAQAAAAAAAAABAAAAAQAAAAAAAAABAAAAAAAAAAEAAAABAAAAAQAAAAAAAAABAAAAAQAAAAEAAAAAAAAAAQAAAAAAAAABAAAAAQAAAAEAAAAAAAAAAQAAAAEAAAABAAAAAQAAAAAAAAAAAAAAAAAAAAAAAAAAAAAAAQAAAAEAAAABAAAAAQAAAAEAAAABAAAAAQAAAAAAAAAAAAAAAQAAAAAAAAABAAAAAAAAAAAAAAABAAAAAQAAAAEAAAABAAAAAQAAAAAAAAABAAAAAAAAAAEAAAABAAAAAAAAAAEAAAABAAAAAAAAAAEAAAAAAAAAAAAAAAEAAAAAAAAAAQAAAAEAAAABAAAAAQAAAAEAAAABAAAAAAAAAAEAAAAAAAAAAAAAAAEAAAAAAAAAAAAAAAEAAAABAAAAAAAAAAEAAAABAAAAAAAAAAEAAAAAAAAAAQAAAAEAAAABAAAAAQAAAAEAAAAAAAAAAAAAAAAAAAAAAAAAAQAAAAAAAAABAAAAAgAAAAEAAAABAAAAAQAAAAEAAAABAAAAAAAAAAEAAAAAAAAAAAAAAAAAAAACAAAAAQAAAAEAAAABAAAAAgAAAAEAAAABAAAAAAAAAAEAAAABAAAAAQAAAAAAAAABAAAAAQAAAAEAAAABAAAAAAAAAAEAAAABAAAAAAAAAAEAAAABAAAAAAAAAAAAAAABAAAAAAAAAAEAAAABAAAAAQAAAAEAAAAAAAAAAQAAAAAAAAABAAAAAAAAAAEAAAAAAAAAAQAAAAEAAAAAAAAAAAAAAAEAAAABAAAAAAAAAAAAAAABAAAAAQAAAAEAAAABAAAAAQAAAAEAAAABAAAAAQAAAAEAAAAAAAAAAAAAAAEAAAABAAAAAQAAAAEAAAABAAAAAAAAAAEAAAAAAAAAAQAAAAEAAAABAAAAAAAAAAEAAAABAAAAAQAAAAEAAAAAAAAAAQAAAAAAAAAAAAAAAQAAAAAAAAABAAAAAQAAAAEAAAABAAAAAQAAAAAAAAABAAAAAQAAAAAAAAABAAAAAQAAAAEAAAAAAAAAAAAAAAAAAAABAAAAAQAAAAEAAAAAAAAAAQAAAAAAAAABAAAAAQAAAAAAAAAAAAAAAQAAAAEAAAABAAAAAAAAAAEAAAAAAAAAAQAAAAEAAAABAAAAAAAAAAAAAAABAAAAAAAAAAAAAAAAAAAAAQAAAAEAAAABAAAAAQAAAAEAAAABAAAAAQAAAAAAAAAAAAAAAAAAAAEAAAABAAAAAAAAAAEAAAABAAAAAAAAAAEAAAABAAAAAQAAAAAAAAABAAAAAQAAAAEAAAABAAAAAAAAAAEAAAABAAAAAAAAAAEAAAABAAAAAAAAAAEAAAABAAAAAQAAAAAAAAABAAAAAQAAAAEAAAABAAAAAQAAAAEAAAABAAAAAQAAAAAAAAAAAAAAAAAAAAEAAAAAAAAAAQAAAAEAAAAAAAAAAQAAAAEAAAABAAAAAAAAAAAAAAABAAAAAAAAAAEAAAABAAAAAQAAAAEAAAABAAAAAAAAAAEAAAABAAAAAQAAAAAAAAAAAAAAAQAAAAEAAAABAAAAAQAAAAEAAAAAAAAAAQAAAAEAAAAAAAAAAQAAAAAAAAAAAAAAAAAAAAAAAAAAAAAAAQAAAAEAAAAAAAAAAQAAAAAAAAABAAAAAQAAAAEAAAAAAAAAAQAAAAEAAAABAAAAAAAAAAAAAAABAAAAAAAAAAEAAAABAAAAAQAAAAEAAAABAAAAAAAAAAEAAAABAAAAAAAAAAEAAAABAAAAAQAAAAEAAAABAAAAAQAAAAEAAAABAAAAAQAAAAEAAAAAAAAAAQAAAAAAAAABAAAAAQAAAAAAAAABAAAAAAAAAAEAAAAAAAAAAQAAAAAAAAABAAAAAQAAAAEAAAAAAAAAAAAAAAEAAAABAAAAAAAAAAAAAAABAAAAAQAAAAEAAAABAAAAAQAAAAEAAAAAAAAAAQAAAAEAAAABAAAAAQAAAAAAAAABAAAAAAAAAAAAAAABAAAAAQAAAAEAAAABAAAAAQAAAAAAAAABAAAAAAAAAAAAAAAAAAAAAQAAAAEAAAAAAAAAAQAAAAEAAAAAAAAAAAAAAAEAAAAAAAAAAQAAAAAAAAAAAAAAAQAAAAAAAAAAAAAAAAAAAAEAAAABAAAAAQAAAAEAAAAAAAAAAAAAAAEAAAABAAAAAQAAAAEAAAABAAAAAAAAAAAAAAAAAAAAAQAAAAEAAAABAAAAAQAAAAAAAAAAAAAAAgAAAAAAAAABAAAAAQAAAAAAAAAAAAAAAQAAAAAAAAABAAAAAQAAAAEAAAABAAAAAQAAAAEAAAABAAAAAAAAAAAAAAABAAAAAQAAAAEAAAABAAAAAQAAAAEAAAABAAAAAAAAAAAAAAABAAAAAQAAAAEAAAABAAAAAAAAAAEAAAAAAAAAAQAAAAAAAAAAAAAAAAAAAAAAAAAAAAAAAQAAAAEAAAABAAAAAQAAAAEAAAAAAAAAAQAAAAAAAAABAAAAAQAAAAAAAAABAAAAAAAAAAEAAAABAAAAAQAAAAAAAAABAAAAAAAAAAEAAAABAAAAAQAAAAAAAAABAAAAAQAAAAAAAAABAAAAAQAAAAEAAAABAAAAAQAAAAAAAAABAAAAAAAAAAEAAAABAAAAAQAAAAEAAAABAAAAAQAAAAEAAAABAAAAAQAAAAAAAAABAAAAAQAAAAAAAAAAAAAAAQAAAAEAAAAAAAAAAAAAAAEAAAABAAAAAQAAAAEAAAABAAAAAQAAAAEAAAAAAAAAAQAAAAEAAAABAAAAAQAAAAAAAAAAAAAAAQAAAAEAAAABAAAAAQAAAAEAAAABAAAAAQAAAAEAAAABAAAAAQAAAAEAAAABAAAAAQAAAAAAAAABAAAAAAAAAAEAAAAAAAAAAQAAAAEAAAABAAAAAQAAAAAAAAABAAAAAAAAAAEAAAABAAAAAAAAAAAAAAAAAAAAAAAAAAEAAAAAAAAAAQAAAAAAAAABAAAAAQAAAAAAAAAAAAAAAQAAAAAAAAAAAAAAAQAAAAAAAAABAAAAAQAAAAAAAAABAAAAAQAAAAEAAAABAAAAAQAAAAEAAAABAAAAAAAAAAEAAAABAAAAAQAAAAEAAAABAAAAAQAAAAAAAAABAAAAAQAAAAEAAAAAAAAAAQAAAAAAAAAAAAAAAAAAAAEAAAAAAAAAAAAAAAAAAAABAAAAAQAAAAEAAAABAAAAAQAAAAEAAAABAAAAAQAAAAAAAAABAAAAAAAAAAEAAAABAAAAAAAAAAEAAAABAAAAAQAAAAAAAAAAAAAAAQAAAAEAAAAAAAAAAAAAAAEAAAABAAAAAAAAAAAAAAABAAAAAAAAAAAAAAABAAAAAQAAAAAAAAAAAAAAAQAAAAAAAAABAAAAAAAAAAAAAAABAAAAAQAAAAAAAAABAAAAAQAAAAEAAAABAAAAAAAAAAEAAAABAAAAAQAAAAEAAAABAAAAAQAAAAAAAAAAAAAAAQAAAAEAAAABAAAAAQAAAAAAAAABAAAAAAAAAAEAAAABAAAAAQAAAAEAAAAAAAAAAQAAAAEAAAABAAAAAQAAAAEAAAABAAAAAAAAAAAAAAABAAAAAQAAAAAAAAAAAAAAAQAAAAEAAAABAAAAAQAAAAEAAAAAAAAAAAAAAAEAAAAAAAAAAQAAAAAAAAAAAAAAAQAAAAAAAAABAAAAAQAAAAEAAAAAAAAAAAAAAAEAAAABAAAAAAAAAAAAAAABAAAAAQAAAAAAAAABAAAAAAAAAAIAAAABAAAAAAAAAAEAAAAAAAAAAQAAAAEAAAAAAAAAAAAAAAAAAAABAAAAAQAAAAAAAAAAAAAAAAAAAAEAAAABAAAAAQAAAAEAAAAAAAAAAAAAAAEAAAAAAAAAAQAAAAEAAAABAAAAAQAAAAEAAAABAAAAAQAAAAAAAAABAAAAAQAAAAEAAAABAAAAAAAAAAEAAAABAAAAAQAAAAAAAAAAAAAAAQAAAAEAAAABAAAAAAAAAAEAAAABAAAAAQAAAAEAAAABAAAAAQAAAAEAAAAAAAAAAAAAAAEAAAAAAAAAAQAAAAAAAAABAAAAAAAAAAEAAAABAAAAAQAAAAAAAAABAAAAAQAAAAEAAAABAAAAAQAAAAEAAAABAAAAAAAAAAAAAAACAAAAAAAAAAEAAAAAAAAAAQAAAAEAAAAAAAAAAQAAAAAAAAAAAAAAAgAAAAEAAAAAAAAAAQAAAAEAAAABAAAAAAAAAAEAAAAAAAAAAAAAAAEAAAAAAAAAAAAAAAEAAAABAAAAAQAAAAAAAAAAAAAAAAAAAAAAAAAAAAAAAgAAAAEAAAAAAAAAAQAAAAEAAAABAAAAAQAAAAEAAAABAAAAAAAAAAEAAAAAAAAAAQAAAAEAAAABAAAAAQAAAAEAAAABAAAAAQAAAAEAAAAAAAAAAAAAAAAAAAABAAAAAQAAAAEAAAABAAAAAAAAAAEAAAABAAAAAQAAAAAAAAAAAAAAAQAAAAEAAAABAAAAAAAAAAEAAAAAAAAAAQAAAAEAAAAAAAAAAAAAAAAAAAABAAAAAAAAAAEAAAABAAAAAQAAAAAAAAABAAAAAQAAAAEAAAABAAAAAAAAAAEAAAABAAAAAAAAAAEAAAAAAAAAAQAAAAAAAAABAAAAAAAAAAEAAAABAAAAAAAAAAEAAAABAAAAAQAAAAEAAAABAAAAAQAAAAEAAAAAAAAAAQAAAAAAAAABAAAAAQAAAAEAAAABAAAAAAAAAAEAAAABAAAAAQAAAAEAAAABAAAAAQAAAAEAAAABAAAAAQAAAAEAAAABAAAAAAAAAAEAAAAAAAAAAQAAAAEAAAAAAAAAAQAAAAAAAAABAAAAAQAAAAEAAAAAAAAAAAAAAAEAAAAAAAAAAAAAAAAAAAABAAAAAAAAAAAAAAABAAAAAAAAAAAAAAABAAAAAAAAAAAAAAABAAAAAQAAAAEAAAAAAAAAAAAAAAAAAAABAAAAAQAAAAEAAAABAAAAAQAAAAEAAAABAAAAAQAAAAEAAAAAAAAAAQAAAAAAAAAAAAAAAQAAAAEAAAABAAAAAQAAAAEAAAABAAAAAAAAAAAAAAAAAAAAAAAAAAEAAAABAAAAAAAAAAEAAAABAAAAAQAAAAEAAAABAAAAAQAAAAEAAAABAAAAAAAAAAAAAAABAAAAAQAAAAAAAAABAAAAAAAAAAAAAAAAAAAAAAAAAAEAAAAAAAAAAQAAAAAAAAABAAAAAQAAAAAAAAABAAAAAQAAAAEAAAAAAAAAAQAAAAEAAAABAAAAAAAAAAEAAAABAAAAAQAAAAEAAAABAAAAAAAAAAEAAAABAAAAAQAAAAEAAAABAAAAAQAAAAEAAAABAAAAAAAAAAAAAAAAAAAAAQAAAAEAAAABAAAAAQAAAAAAAAABAAAAAQAAAAEAAAAAAAAAAAAAAAEAAAAAAAAAAAAAAAAAAAABAAAAAQAAAAEAAAABAAAAAAAAAAAAAAABAAAAAQAAAAEAAAABAAAAAQAAAAEAAAAAAAAAAAAAAAEAAAAAAAAAAQAAAAEAAAABAAAAAQAAAAAAAAABAAAAAQAAAAAAAAABAAAAAQAAAAEAAAABAAAAAAAAAAAAAAAAAAAAAQAAAAEAAAAAAAAAAQAAAAAAAAABAAAAAQAAAAEAAAABAAAAAQAAAAEAAAABAAAAAQAAAAEAAAAAAAAAAAAAAAEAAAAAAAAAAQAAAAAAAAABAAAAAAAAAAAAAAABAAAAAAAAAAAAAAAAAAAAAQAAAAAAAAABAAAAAAAAAAEAAAABAAAAAQAAAAEAAAABAAAAAQAAAAEAAAAAAAAAAQAAAAAAAAABAAAAAAAAAAEAAAABAAAAAQAAAAAAAAAAAAAAAQAAAAEAAAAAAAAAAAAAAAEAAAAAAAAAAQAAAAEAAAABAAAAAQAAAAEAAAAAAAAAAQAAAAEAAAAAAAAAAQAAAAEAAAABAAAAAQAAAAEAAAABAAAAAQAAAAAAAAAAAAAAAQAAAAEAAAAAAAAAAAAAAAAAAAABAAAAAAAAAAAAAAABAAAAAQAAAAEAAAABAAAAAQAAAAEAAAAAAAAAAAAAAAEAAAABAAAAAAAAAAEAAAAAAAAAAAAAAAEAAAABAAAAAQAAAAEAAAAAAAAAAQAAAAAAAAABAAAAAQAAAAEAAAABAAAAAQAAAAEAAAAAAAAAAQAAAAAAAAABAAAAAAAAAAMAAAABAAAAAQAAAAEAAAAAAAAAAQAAAAEAAAABAAAAAQAAAAAAAAAAAAAAAQAAAAAAAAAAAAAAAAAAAAEAAAAAAAAAAQAAAAEAAAABAAAAAAAAAAEAAAABAAAAAQAAAAEAAAAAAAAAAAAAAAAAAAABAAAAAAAAAAAAAAAAAAAAAQAAAAEAAAAAAAAAAQAAAAAAAAABAAAAAQAAAAEAAAABAAAAAAAAAAEAAAABAAAAAAAAAAEAAAAAAAAAAAAAAAEAAAABAAAAAQAAAAAAAAABAAAAAQAAAAEAAAABAAAAAQAAAAAAAAABAAAAAQAAAAEAAAABAAAAAQAAAAEAAAABAAAAAQAAAAEAAAABAAAAAQAAAAAAAAABAAAAAQAAAAAAAAABAAAAAAAAAAEAAAABAAAAAQAAAAEAAAABAAAAAQAAAAAAAAAAAAAAAQAAAAEAAAABAAAAAQAAAAEAAAAAAAAAAQAAAAEAAAAAAAAAAAAAAAAAAAABAAAAAQAAAAAAAAAAAAAAAAAAAAAAAAABAAAAAQAAAAEAAAABAAAAAAAAAAEAAAABAAAAAAAAAAEAAAABAAAAAAAAAAEAAAAAAAAAAAAAAAAAAAABAAAAAQAAAAEAAAAAAAAAAAAAAAEAAAABAAAAAAAAAAAAAAABAAAAAAAAAAEAAAAAAAAAAQAAAAEAAAABAAAAAQAAAAEAAAABAAAAAQAAAAEAAAABAAAAAQAAAAAAAAABAAAAAAAAAAEAAAACAAAAAQAAAAEAAAABAAAAAAAAAAAAAAABAAAAAQAAAAEAAAABAAAAAAAAAAEAAAAAAAAAAQAAAAEAAAAAAAAAAQAAAAEAAAAAAAAAAQAAAAAAAAAAAAAAAQAAAAEAAAAAAAAAAQAAAAAAAAAAAAAAAQAAAAEAAAAAAAAAAQAAAAAAAAABAAAAAQAAAAEAAAABAAAAAQAAAAEAAAAAAAAAAQAAAAEAAAABAAAAAQAAAAEAAAAAAAAAAQAAAAEAAAABAAAAAAAAAAAAAAABAAAAAAAAAAEAAAABAAAAAQAAAAEAAAAAAAAAAQAAAAEAAAAAAAAAAQAAAAEAAAAAAAAAAQAAAAAAAAABAAAAAAAAAAAAAAABAAAAAAAAAAAAAAAAAAAAAAAAAAAAAAAAAAAAAAAAAAEAAAAAAAAAAQAAAAAAAAABAAAAAAAAAAEAAAABAAAAAQAAAAAAAAABAAAAAAAAAAEAAAABAAAAAQAAAAEAAAAAAAAAAAAAAAEAAAAAAAAAAQAAAAEAAAABAAAAAAAAAAAAAAABAAAAAQAAAAAAAAABAAAAAQAAAAAAAAABAAAAAQAAAAEAAAABAAAAAQAAAAAAAAABAAAAAAAAAAEAAAABAAAAAQAAAAAAAAABAAAAAQAAAAEAAAABAAAAAQAAAAEAAAABAAAAAAAAAAEAAAABAAAAAQAAAAAAAAAAAAAAAAAAAAEAAAAAAAAAAQAAAAAAAAABAAAAAQAAAAAAAAAAAAAAAQAAAAEAAAABAAAAAQAAAAAAAAAAAAAAAQAAAAEAAAABAAAAAQAAAAEAAAABAAAAAQAAAAEAAAAAAAAAAAAAAAEAAAAAAAAAAAAAAAEAAAABAAAAAQAAAAEAAAABAAAAAAAAAAEAAAABAAAAAQAAAAAAAAAAAAAAAQAAAAAAAAABAAAAAQAAAAEAAAABAAAAAAAAAAEAAAAAAAAAAQAAAAEAAAABAAAAAQAAAAEAAAABAAAAAQAAAAAAAAABAAAAAQAAAAEAAAAAAAAAAQAAAAAAAAABAAAAAQAAAAEAAAAAAAAAAAAAAAEAAAABAAAAAQAAAAEAAAABAAAAAQAAAAEAAAABAAAAAQAAAAEAAAABAAAAAAAAAAAAAAABAAAAAQAAAAEAAAABAAAAAQAAAAAAAAABAAAAAQAAAAAAAAABAAAAAAAAAAEAAAABAAAAAQAAAAEAAAAAAAAAAgAAAAEAAAABAAAAAQAAAAAAAAABAAAAAQAAAAEAAAABAAAAAAAAAAEAAAABAAAAAQAAAAEAAAABAAAAAQAAAAEAAAABAAAAAAAAAAEAAAABAAAAAQAAAAAAAAABAAAAAQAAAAEAAAABAAAAAQAAAAEAAAAAAAAAAQAAAAAAAAAAAAAAAQAAAAEAAAABAAAAAAAAAAAAAAABAAAAAQAAAAEAAAAAAAAAAQAAAAAAAAAAAAAAAQAAAAEAAAAAAAAAAAAAAAAAAAABAAAAAQAAAAAAAAAAAAAAAQAAAAEAAAABAAAAAQAAAAEAAAABAAAAAQAAAAAAAAAAAAAAAAAAAAEAAAABAAAAAQAAAAEAAAABAAAAAAAAAAEAAAABAAAAAAAAAAAAAAABAAAAAAAAAAAAAAAAAAAAAAAAAAIAAAABAAAAAQAAAAEAAAAAAAAAAAAAAAAAAAAAAAAAAAAAAAAAAAABAAAAAAAAAAEAAAABAAAAAQAAAAEAAAABAAAAAQAAAAEAAAABAAAAAQAAAAAAAAABAAAAAQAAAAAAAAABAAAAAAAAAAAAAAAAAAAAAAAAAAEAAAAAAAAAAQAAAAEAAAABAAAAAQAAAAEAAAABAAAAAQAAAAEAAAADAAAAAQAAAAAAAAABAAAAAAAAAAEAAAABAAAAAQAAAAAAAAABAAAAAQAAAAEAAAABAAAAAQAAAAEAAAABAAAAAQAAAAAAAAABAAAAAQAAAAEAAAABAAAAAAAAAAEAAAAAAAAAAAAAAAEAAAABAAAAAAAAAAEAAAABAAAAAAAAAAAAAAAAAAAAAgAAAAEAAAABAAAAAAAAAAEAAAAAAAAAAAAAAAEAAAABAAAAAQAAAAEAAAABAAAAAQAAAAEAAAAAAAAAAAAAAAEAAAABAAAAAQAAAAEAAAABAAAAAQAAAAEAAAABAAAAAQAAAAEAAAAAAAAAAAAAAAEAAAABAAAAAQAAAAEAAAABAAAAAQAAAAEAAAABAAAAAQAAAAAAAAAAAAAAAQAAAAEAAAAAAAAAAQAAAAEAAAAAAAAAAQAAAAAAAAAAAAAAAAAAAAAAAAABAAAAAQAAAAEAAAABAAAAAAAAAAEAAAAAAAAAAQAAAAEAAAABAAAAAQAAAAEAAAAAAAAAAAAAAAEAAAABAAAAAAAAAAEAAAABAAAAAAAAAAAAAAAAAAAAAQAAAAEAAAABAAAAAQAAAAEAAAABAAAAAQAAAAEAAAAAAAAAAQAAAAAAAAAAAAAAAQAAAAEAAAABAAAAAAAAAAEAAAABAAAAAQAAAAAAAAABAAAAAAAAAAAAAAABAAAAAQAAAAEAAAABAAAAAAAAAAEAAAAAAAAAAAAAAAAAAAABAAAAAQAAAAAAAAAAAAAAAQAAAAEAAAABAAAAAAAAAAEAAAABAAAAAQAAAAEAAAABAAAAAAAAAAEAAAABAAAAAQAAAAEAAAAAAAAAAQAAAAEAAAABAAAAAQAAAAAAAAABAAAAAAAAAAEAAAAAAAAAAAAAAAAAAAAAAAAAAQAAAAEAAAABAAAAAQAAAAEAAAABAAAAAAAAAAAAAAABAAAAAQAAAAEAAAAAAAAAAAAAAAEAAAABAAAAAQAAAAAAAAAAAAAAAAAAAAEAAAAAAAAAAQAAAAEAAAAAAAAAAAAAAAAAAAABAAAAAQAAAAAAAAABAAAAAAAAAAAAAAABAAAAAAAAAAEAAAAAAAAAAQAAAAEAAAABAAAAAQAAAAEAAAABAAAAAQAAAAAAAAABAAAAAQAAAAEAAAABAAAAAQAAAAAAAAABAAAAAQAAAAEAAAABAAAAAQAAAAEAAAABAAAAAAAAAAEAAAAAAAAAAQAAAAAAAAAAAAAAAQAAAAAAAAABAAAAAQAAAAEAAAABAAAAAAAAAAEAAAAAAAAAAQAAAAEAAAAAAAAAAQAAAAEAAAAAAAAAAQAAAAEAAAABAAAAAQAAAAEAAAABAAAAAAAAAAAAAAABAAAAAQAAAAEAAAABAAAAAQAAAAAAAAABAAAAAQAAAAAAAAABAAAAAwAAAAEAAAABAAAAAAAAAAEAAAABAAAAAAAAAAEAAAAAAAAAAQAAAAEAAAAAAAAAAQAAAAEAAAAAAAAAAAAAAAAAAAAAAAAAAQAAAAEAAAABAAAAAAAAAAAAAAABAAAAAAAAAAEAAAABAAAAAAAAAAAAAAAAAAAAAAAAAAAAAAAAAAAAAQAAAAAAAAABAAAAAQAAAAEAAAAAAAAAAQAAAAEAAAABAAAAAQAAAAEAAAAAAAAAAAAAAAEAAAABAAAAAQAAAAEAAAABAAAAAAAAAAEAAAABAAAAAQAAAAEAAAABAAAAAQAAAAAAAAABAAAAAQAAAAEAAAABAAAAAQAAAAEAAAABAAAAAAAAAAEAAAAAAAAAAAAAAAEAAAAAAAAAAAAAAAEAAAABAAAAAAAAAAEAAAABAAAAAAAAAAAAAAAAAAAAAAAAAAAAAAAAAAAAAQAAAAAAAAABAAAAAQAAAAAAAAABAAAAAAAAAAEAAAAAAAAAAQAAAAEAAAABAAAAAQAAAAAAAAABAAAAAQAAAAAAAAABAAAAAAAAAAEAAAAAAAAAAQAAAAEAAAABAAAAAAAAAAAAAAABAAAAAQAAAAEAAAABAAAAAQAAAAEAAAABAAAAAQAAAAAAAAABAAAAAQAAAAEAAAABAAAAAQAAAAEAAAABAAAAAAAAAAEAAAACAAAAAAAAAAEAAAABAAAAAQAAAAEAAAABAAAAAQAAAAAAAAABAAAAAAAAAAEAAAABAAAAAAAAAAEAAAABAAAAAAAAAAAAAAAAAAAAAQAAAAEAAAABAAAAAgAAAAEAAAABAAAAAAAAAAEAAAABAAAAAQAAAAEAAAABAAAAAAAAAAEAAAAAAAAAAQAAAAEAAAABAAAAAQAAAAAAAAABAAAAAQAAAAAAAAABAAAAAAAAAAAAAAAAAAAAAAAAAAAAAAAAAAAAAQAAAAEAAAAAAAAAAQAAAAEAAAABAAAAAAAAAAEAAAABAAAAAQAAAAEAAAABAAAAAAAAAAEAAAAAAAAAAQAAAAEAAAABAAAAAQAAAAAAAAABAAAAAQAAAAEAAAABAAAAAAAAAAEAAAABAAAAAQAAAAEAAAABAAAAAQAAAAEAAAABAAAAAQAAAAEAAAABAAAAAQAAAAEAAAAAAAAAAQAAAAEAAAABAAAAAQAAAAAAAAABAAAAAQAAAAEAAAABAAAAAQAAAAAAAAAAAAAAAQAAAAEAAAAAAAAAAQAAAAEAAAABAAAAAQAAAAEAAAABAAAAAQAAAAEAAAABAAAAAAAAAAEAAAABAAAAAQAAAAAAAAABAAAAAQAAAAEAAAABAAAAAAAAAAAAAAAAAAAAAQAAAAEAAAAAAAAAAAAAAAAAAAABAAAAAAAAAAAAAAAAAAAAAQAAAAAAAAAAAAAAAQAAAAAAAAAAAAAAAAAAAAEAAAAAAAAAAQAAAAEAAAAAAAAAAQAAAAEAAAABAAAAAQAAAAAAAAABAAAAAAAAAAAAAAABAAAAAQAAAAEAAAABAAAAAAAAAAEAAAABAAAAAQAAAAAAAAABAAAAAAAAAAEAAAAAAAAAAQAAAAEAAAAAAAAAAQAAAAAAAAABAAAAAQAAAAEAAAAAAAAAAQAAAAEAAAABAAAAAAAAAAEAAAABAAAAAQAAAAAAAAAAAAAAAQAAAAAAAAABAAAAAAAAAAEAAAABAAAAAAAAAAEAAAAAAAAAAQAAAAAAAAAAAAAAAQAAAAAAAAABAAAAAQAAAAEAAAABAAAAAQAAAAAAAAABAAAAAQAAAAEAAAABAAAAAQAAAAAAAAABAAAAAAAAAAEAAAABAAAAAQAAAAEAAAABAAAAAQAAAAAAAAABAAAAAAAAAAEAAAABAAAAAAAAAAEAAAABAAAAAQAAAAAAAAABAAAAAAAAAAEAAAABAAAAAQAAAAEAAAAAAAAAAQAAAAEAAAABAAAAAQAAAAAAAAAAAAAAAQAAAAEAAAAAAAAAAAAAAAAAAAAAAAAAAQAAAAEAAAABAAAAAQAAAAEAAAABAAAAAQAAAAAAAAAAAAAAAAAAAAEAAAABAAAAAQAAAAEAAAABAAAAAQAAAAAAAAAAAAAAAQAAAAAAAAABAAAAAQAAAAAAAAAAAAAAAAAAAAIAAAABAAAAAQAAAAEAAAABAAAAAAAAAAAAAAABAAAAAAAAAAEAAAABAAAAAQAAAAAAAAAAAAAAAQAAAAAAAAABAAAAAAAAAAEAAAABAAAAAAAAAAAAAAABAAAAAQAAAAEAAAAAAAAAAAAAAAAAAAABAAAAAAAAAAEAAAABAAAAAQAAAAEAAAABAAAAAAAAAAAAAAABAAAAAQAAAAAAAAABAAAAAAAAAAEAAAAAAAAAAQAAAAEAAAAAAAAAAQAAAAAAAAABAAAAAAAAAAAAAAABAAAAAQAAAAEAAAABAAAAAQAAAAEAAAABAAAAAQAAAAAAAAABAAAAAQAAAAEAAAAAAAAAAQAAAAAAAAAAAAAAAQAAAAEAAAABAAAAAQAAAAAAAAABAAAAAQAAAAEAAAAAAAAAAAAAAAEAAAAAAAAAAAAAAAEAAAABAAAAAQAAAAAAAAABAAAAAAAAAAEAAAABAAAAAQAAAAAAAAABAAAAAAAAAAAAAAABAAAAAQAAAAEAAAAAAAAAAAAAAAEAAAABAAAAAQAAAAAAAAABAAAAAAAAAAEAAAABAAAAAAAAAAEAAAAAAAAAAQAAAAAAAAABAAAAAQAAAAAAAAABAAAAAQAAAAEAAAABAAAAAAAAAAAAAAABAAAAAQAAAAEAAAABAAAAAQAAAAAAAAABAAAAAAAAAAEAAAAAAAAAAQAAAAEAAAABAAAAAAAAAAAAAAAAAAAAAAAAAAEAAAABAAAAAAAAAAEAAAABAAAAAAAAAAAAAAAAAAAAAAAAAAEAAAAAAAAAAAAAAAAAAAABAAAAAQAAAAAAAAABAAAAAQAAAAEAAAABAAAAAQAAAAAAAAABAAAAAQAAAAEAAAAAAAAAAQAAAAAAAAAAAAAAAQAAAAAAAAABAAAAAAAAAAEAAAABAAAAAQAAAAEAAAAAAAAAAAAAAAEAAAABAAAAAAAAAAEAAAABAAAAAQAAAAEAAAAAAAAAAAAAAAEAAAABAAAAAAAAAAEAAAAAAAAAAQAAAAAAAAABAAAAAQAAAAEAAAABAAAAAQAAAAAAAAAAAAAAAQAAAAEAAAABAAAAAQAAAAAAAAABAAAAAQAAAAEAAAAAAAAAAQAAAAEAAAABAAAAAQAAAAEAAAABAAAAAQAAAAEAAAAAAAAAAQAAAAEAAAABAAAAAQAAAAEAAAAAAAAAAQAAAAAAAAABAAAAAAAAAAEAAAABAAAAAQAAAAAAAAAAAAAAAQAAAAEAAAAAAAAAAQAAAAAAAAABAAAAAQAAAAEAAAABAAAAAQAAAAAAAAABAAAAAQAAAAEAAAAAAAAAAAAAAAAAAAABAAAAAAAAAAEAAAAAAAAAAQAAAAAAAAABAAAAAQAAAAEAAAABAAAAAQAAAAEAAAABAAAAAQAAAAAAAAABAAAAAQAAAAEAAAABAAAAAAAAAAEAAAABAAAAAAAAAAEAAAABAAAAAAAAAAEAAAAAAAAAAQAAAAAAAAAAAAAAAQAAAAEAAAABAAAAAAAAAAEAAAABAAAAAQAAAAEAAAAAAAAAAQAAAAEAAAABAAAAAQAAAAEAAAABAAAAAAAAAAEAAAABAAAAAQAAAAEAAAABAAAAAAAAAAAAAAABAAAAAAAAAAAAAAABAAAAAQAAAAEAAAABAAAAAQAAAAEAAAABAAAAAQAAAAEAAAAAAAAAAQAAAAAAAAABAAAAAAAAAAEAAAAAAAAAAQAAAAAAAAABAAAAAQAAAAAAAAABAAAAAQAAAAEAAAAAAAAAAQAAAAEAAAABAAAAAQAAAAAAAAABAAAAAAAAAAAAAAABAAAAAQAAAAEAAAABAAAAAQAAAAEAAAABAAAAAQAAAAEAAAABAAAAAAAAAAAAAAABAAAAAQAAAAEAAAAAAAAAAQAAAAEAAAABAAAAAAAAAAEAAAAAAAAAAQAAAAEAAAABAAAAAQAAAAEAAAABAAAAAQAAAAEAAAABAAAAAAAAAAEAAAAAAAAAAAAAAAAAAAABAAAAAAAAAAEAAAABAAAAAQAAAAEAAAAAAAAAAQAAAAAAAAABAAAAAAAAAAAAAAABAAAAAQAAAAEAAAAAAAAAAAAAAAEAAAABAAAAAQAAAAEAAAABAAAAAAAAAAAAAAAAAAAAAQAAAAEAAAABAAAAAAAAAAEAAAABAAAAAAAAAAEAAAABAAAAAQAAAAEAAAAAAAAAAQAAAAEAAAAAAAAAAQAAAAEAAAABAAAAAQAAAAAAAAABAAAAAAAAAAEAAAAAAAAAAAAAAAEAAAABAAAAAQAAAAEAAAAAAAAAAAAAAAEAAAABAAAAAQAAAAEAAAABAAAAAQAAAAEAAAABAAAAAAAAAAEAAAAAAAAAAQAAAAEAAAABAAAAAQAAAAEAAAABAAAAAAAAAAAAAAABAAAAAQAAAAEAAAAAAAAAAQAAAAAAAAABAAAAAgAAAAAAAAAAAAAAAAAAAAEAAAABAAAAAQAAAAEAAAABAAAAAAAAAAAAAAABAAAAAQAAAAEAAAABAAAAAAAAAAEAAAABAAAAAQAAAAAAAAAAAAAAAQAAAAEAAAAAAAAAAQAAAAAAAAABAAAAAQAAAAEAAAAAAAAAAQAAAAEAAAABAAAAAQAAAAEAAAABAAAAAQAAAAEAAAABAAAAAQAAAAEAAAABAAAAAQAAAAEAAAABAAAAAQAAAAEAAAAAAAAAAAAAAAAAAAABAAAAAAAAAAEAAAABAAAAAAAAAAAAAAABAAAAAQAAAAEAAAAAAAAAAQAAAAEAAAABAAAAAAAAAAAAAAABAAAAAQAAAAEAAAABAAAAAQAAAAEAAAABAAAAAQAAAAAAAAAAAAAAAQAAAAEAAAAAAAAAAQAAAAAAAAAAAAAAAQAAAAAAAAABAAAAAQAAAAEAAAABAAAAAQAAAAEAAAABAAAAAAAAAAEAAAABAAAAAQAAAAEAAAABAAAAAQAAAAEAAAABAAAAAAAAAAAAAAABAAAAAAAAAAEAAAAAAAAAAQAAAAAAAAAAAAAAAQAAAAAAAAAAAAAAAAAAAAAAAAABAAAAAQAAAAAAAAABAAAAAQAAAAAAAAABAAAAAQAAAAAAAAABAAAAAAAAAAAAAAABAAAAAQAAAAAAAAABAAAAAQAAAAAAAAABAAAAAQAAAAAAAAABAAAAAQAAAAAAAAABAAAAAQAAAAAAAAABAAAAAQAAAAAAAAABAAAAAAAAAAAAAAAAAAAAAQAAAAEAAAABAAAAAQAAAAEAAAABAAAAAAAAAAAAAAAAAAAAAQAAAAAAAAAAAAAAAAAAAAAAAAABAAAAAAAAAAEAAAABAAAAAAAAAAEAAAAAAAAAAQAAAAEAAAABAAAAAAAAAAAAAAABAAAAAAAAAAAAAAAAAAAAAAAAAAEAAAABAAAAAQAAAAEAAAABAAAAAQAAAAEAAAAAAAAAAQAAAAAAAAABAAAAAQAAAAAAAAAAAAAAAAAAAAAAAAABAAAAAAAAAAEAAAAAAAAAAQAAAAAAAAABAAAAAAAAAAEAAAAAAAAAAQAAAAEAAAABAAAAAQAAAAEAAAABAAAAAAAAAAEAAAABAAAAAAAAAAEAAAABAAAAAQAAAAEAAAABAAAAAQAAAAAAAAABAAAAAAAAAAEAAAABAAAAAQAAAAAAAAABAAAAAAAAAAEAAAAAAAAAAQAAAAAAAAAAAAAAAQAAAAAAAAABAAAAAQAAAAEAAAABAAAAAQAAAAEAAAABAAAAAQAAAAIAAAABAAAAAQAAAAEAAAABAAAAAQAAAAEAAAABAAAAAAAAAAAAAAABAAAAAQAAAAEAAAABAAAAAQAAAAAAAAACAAAAAAAAAAEAAAAAAAAAAQAAAAEAAAAAAAAAAQAAAAAAAAABAAAAAAAAAAEAAAABAAAAAQAAAAEAAAAAAAAAAQAAAAAAAAAAAAAAAQAAAAEAAAABAAAAAAAAAAEAAAABAAAAAQAAAAEAAAABAAAAAQAAAAAAAAABAAAAAAAAAAAAAAABAAAAAAAAAAAAAAAAAAAAAQAAAAAAAAAAAAAAAAAAAAEAAAABAAAAAAAAAAAAAAAAAAAAAAAAAAEAAAAAAAAAAAAAAAEAAAABAAAAAQAAAAAAAAABAAAAAAAAAAEAAAABAAAAAAAAAAAAAAAAAAAAAAAAAAEAAAABAAAAAQAAAAEAAAAAAAAAAAAAAAEAAAABAAAAAQAAAAAAAAABAAAAAQAAAAEAAAABAAAAAQAAAAEAAAABAAAAAQAAAAEAAAABAAAAAAAAAAEAAAABAAAAAQAAAAEAAAABAAAAAQAAAAAAAAABAAAAAQAAAAEAAAABAAAAAQAAAAAAAAAAAAAAAQAAAAEAAAABAAAAAAAAAAAAAAABAAAAAAAAAAEAAAABAAAAAAAAAAEAAAAAAAAAAAAAAAEAAAABAAAAAQAAAAEAAAABAAAAAQAAAAEAAAABAAAAAQAAAAAAAAABAAAAAQAAAAAAAAAAAAAAAQAAAAAAAAAAAAAAAQAAAAEAAAAAAAAAAAAAAAEAAAABAAAAAAAAAAEAAAABAAAAAAAAAAAAAAAAAAAAAQAAAAEAAAABAAAAAQAAAAEAAAABAAAAAQAAAAEAAAAAAAAAAQAAAAEAAAABAAAAAQAAAAEAAAABAAAAAQAAAAEAAAABAAAAAQAAAAEAAAABAAAAAQAAAAEAAAABAAAAAAAAAAEAAAAAAAAAAAAAAAAAAAAAAAAAAQAAAAAAAAABAAAAAQAAAAAAAAABAAAAAQAAAAEAAAABAAAAAQAAAAEAAAABAAAAAQAAAAEAAAABAAAAAQAAAAEAAAABAAAAAAAAAAEAAAABAAAAAAAAAAAAAAABAAAAAAAAAAAAAAABAAAAAQAAAAEAAAABAAAAAAAAAAEAAAABAAAAAAAAAAEAAAABAAAAAAAAAAEAAAABAAAAAAAAAAAAAAABAAAAAQAAAAEAAAABAAAAAQAAAAEAAAABAAAAAAAAAAEAAAABAAAAAQAAAAAAAAAAAAAAAAAAAAEAAAAAAAAAAQAAAAEAAAABAAAAAQAAAAAAAAABAAAAAQAAAAAAAAAAAAAAAAAAAAEAAAABAAAAAAAAAAEAAAAAAAAAAAAAAAEAAAABAAAAAAAAAAAAAAABAAAAAQAAAAAAAAABAAAAAQAAAAAAAAABAAAAAAAAAAEAAAABAAAAAAAAAAAAAAABAAAAAAAAAAAAAAAAAAAAAAAAAAEAAAABAAAAAAAAAAEAAAAAAAAAAQAAAAEAAAAAAAAAAAAAAAAAAAABAAAAAQAAAAAAAAABAAAAAQAAAAAAAAABAAAAAQAAAAAAAAABAAAAAAAAAAEAAAAAAAAAAAAAAAEAAAABAAAAAQAAAAEAAAABAAAAAQAAAAEAAAABAAAAAQAAAAEAAAABAAAAAQAAAAAAAAAAAAAAAQAAAAAAAAABAAAAAQAAAAAAAAAAAAAAAAAAAAEAAAABAAAAAAAAAAEAAAABAAAAAQAAAAEAAAABAAAAAQAAAAAAAAABAAAAAQAAAAAAAAABAAAAAAAAAAEAAAABAAAAAQAAAAAAAAABAAAAAQAAAAEAAAABAAAAAQAAAAEAAAABAAAAAQAAAAEAAAABAAAAAQAAAAEAAAABAAAAAQAAAAEAAAAAAAAAAQAAAAAAAAABAAAAAAAAAAEAAAAAAAAAAQAAAAEAAAABAAAAAAAAAAAAAAABAAAAAQAAAAEAAAABAAAAAAAAAAAAAAABAAAAAAAAAAAAAAAAAAAAAQAAAAEAAAABAAAAAAAAAAAAAAABAAAAAQAAAAEAAAABAAAAAAAAAAAAAAABAAAAAAAAAAEAAAABAAAAAAAAAAEAAAAAAAAAAQAAAAEAAAABAAAAAQAAAAEAAAABAAAAAAAAAAEAAAABAAAAAAAAAAAAAAACAAAAAQAAAAEAAAAAAAAAAQAAAAAAAAABAAAAAQAAAAEAAAABAAAAAQAAAAEAAAABAAAAAAAAAAAAAAAAAAAAAQAAAAAAAAABAAAAAQAAAAEAAAAAAAAAAQAAAAEAAAABAAAAAQAAAAEAAAABAAAAAQAAAAEAAAAAAAAAAAAAAAEAAAABAAAAAQAAAAEAAAABAAAAAAAAAAEAAAABAAAAAQAAAAEAAAABAAAAAAAAAAEAAAAAAAAAAQAAAAEAAAABAAAAAAAAAAAAAAABAAAAAQAAAAEAAAAAAAAAAQAAAAEAAAABAAAAAQAAAAAAAAABAAAAAQAAAAEAAAABAAAAAAAAAAAAAAABAAAAAAAAAAAAAAABAAAAAAAAAAEAAAAAAAAAAQAAAAEAAAABAAAAAQAAAAAAAAABAAAAAAAAAAAAAAABAAAAAQAAAAEAAAABAAAAAAAAAAAAAAAAAAAAAAAAAAEAAAAAAAAAAQAAAAAAAAABAAAAAQAAAAAAAAABAAAAAQAAAAEAAAAAAAAAAAAAAAEAAAAAAAAAAQAAAAEAAAABAAAAAQAAAAEAAAAAAAAAAQAAAAEAAAABAAAAAAAAAAEAAAABAAAAAAAAAAAAAAABAAAAAAAAAAAAAAABAAAAAAAAAAAAAAABAAAAAAAAAAAAAAAAAAAAAQAAAAEAAAABAAAAAQAAAAEAAAABAAAAAQAAAAEAAAABAAAAAQAAAAAAAAABAAAAAQAAAAAAAAABAAAAAAAAAAAAAAABAAAAAQAAAAAAAAABAAAAAQAAAAEAAAABAAAAAQAAAAEAAAAAAAAAAAAAAAAAAAAAAAAAAAAAAAAAAAABAAAAAQAAAAAAAAABAAAAAAAAAAEAAAABAAAAAAAAAAEAAAAAAAAAAQAAAAEAAAABAAAAAQAAAAEAAAABAAAAAQAAAAAAAAAAAAAAAQAAAAEAAAABAAAAAQAAAAAAAAAAAAAAAAAAAAEAAAAAAAAAAQAAAAEAAAABAAAAAQAAAAEAAAABAAAAAAAAAAEAAAABAAAAAQAAAAEAAAABAAAAAQAAAAAAAAABAAAAAQAAAAAAAAABAAAAAQAAAAEAAAABAAAAAAAAAAAAAAAAAAAAAQAAAAEAAAAAAAAAAAAAAAEAAAABAAAAAQAAAAAAAAABAAAAAQAAAAEAAAABAAAAAAAAAAAAAAABAAAAAQAAAAAAAAABAAAAAAAAAAEAAAABAAAAAQAAAAEAAAABAAAAAQAAAAAAAAABAAAAAQAAAAAAAAAAAAAAAAAAAAAAAAAAAAAAAQAAAAEAAAABAAAAAQAAAAEAAAABAAAAAQAAAAAAAAABAAAAAAAAAAEAAAAAAAAAAQAAAAAAAAABAAAAAQAAAAEAAAAAAAAAAgAAAAEAAAABAAAAAAAAAAEAAAABAAAAAQAAAAAAAAABAAAAAQAAAAAAAAAAAAAAAQAAAAEAAAABAAAAAAAAAAEAAAABAAAAAAAAAAAAAAAAAAAAAQAAAAEAAAAAAAAAAQAAAAEAAAABAAAAAQAAAAEAAAABAAAAAQAAAAEAAAAAAAAAAQAAAAAAAAABAAAAAQAAAAAAAAABAAAAAQAAAAAAAAAAAAAAAQAAAAAAAAABAAAAAQAAAAEAAAAAAAAAAQAAAAAAAAABAAAAAQAAAAAAAAABAAAAAAAAAAEAAAAAAAAAAAAAAAEAAAABAAAAAQAAAAEAAAABAAAAAQAAAAEAAAAAAAAAAQAAAAEAAAAAAAAAAQAAAAEAAAABAAAAAQAAAAAAAAABAAAAAQAAAAAAAAABAAAAAQAAAAEAAAABAAAAAAAAAAAAAAABAAAAAQAAAAEAAAABAAAAAQAAAAAAAAABAAAAAQAAAAEAAAABAAAAAQAAAAEAAAABAAAAAQAAAAAAAAABAAAAAAAAAAEAAAAAAAAAAAAAAAAAAAABAAAAAQAAAAEAAAABAAAAAAAAAAEAAAABAAAAAAAAAAEAAAAAAAAAAAAAAAAAAAABAAAAAQAAAAAAAAABAAAAAQAAAAEAAAABAAAAAQAAAAEAAAABAAAAAQAAAAEAAAAAAAAAAQAAAAEAAAAAAAAAAQAAAAEAAAABAAAAAAAAAAEAAAAAAAAAAAAAAAEAAAABAAAAAQAAAAEAAAAAAAAAAQAAAAEAAAABAAAAAAAAAAEAAAABAAAAAQAAAAEAAAABAAAAAQAAAAEAAAABAAAAAAAAAAEAAAABAAAAAQAAAAAAAAAAAAAAAQAAAAEAAAABAAAAAQAAAAAAAAABAAAAAQAAAAAAAAAAAAAAAQAAAAEAAAAAAAAAAAAAAAEAAAAAAAAAAQAAAAAAAAABAAAAAAAAAAAAAAABAAAAAAAAAAAAAAABAAAAAAAAAAEAAAABAAAAAQAAAAAAAAABAAAAAAAAAAEAAAABAAAAAAAAAAEAAAABAAAAAQAAAAEAAAABAAAAAQAAAAAAAAABAAAAAAAAAAEAAAAAAAAAAQAAAAEAAAAAAAAAAAAAAAEAAAAAAAAAAAAAAAEAAAABAAAAAQAAAAAAAAABAAAAAQAAAAEAAAABAAAAAQAAAAEAAAAAAAAAAQAAAAEAAAAAAAAAAQAAAAAAAAABAAAAAQAAAAEAAAAAAAAAAQAAAAEAAAAAAAAAAQAAAAAAAAABAAAAAQAAAAAAAAAAAAAAAQAAAAEAAAABAAAAAQAAAAEAAAABAAAAAQAAAAEAAAAAAAAAAQAAAAAAAAABAAAAAAAAAAEAAAAAAAAAAQAAAAEAAAAAAAAAAQAAAAAAAAABAAAAAQAAAAEAAAABAAAAAQAAAAEAAAABAAAAAQAAAAEAAAABAAAAAQAAAAAAAAABAAAAAQAAAAEAAAAAAAAAAQAAAAAAAAABAAAAAQAAAAEAAAABAAAAAQAAAAAAAAABAAAAAAAAAAAAAAAAAAAAAAAAAAAAAAAAAAAAAQAAAAEAAAABAAAAAAAAAAEAAAABAAAAAQAAAAEAAAABAAAAAQAAAAEAAAABAAAAAQAAAAAAAAABAAAAAAAAAAAAAAAAAAAAAQAAAAAAAAABAAAAAQAAAAAAAAABAAAAAQAAAAAAAAABAAAAAAAAAAEAAAABAAAAAAAAAAAAAAABAAAAAQAAAAAAAAAAAAAAAQAAAAEAAAAAAAAAAQAAAAEAAAABAAAAAAAAAAAAAAABAAAAAAAAAAEAAAABAAAAAQAAAAEAAAAAAAAAAQAAAAEAAAABAAAAAAAAAAEAAAABAAAAAQAAAAAAAAABAAAAAQAAAAAAAAABAAAAAQAAAAEAAAABAAAAAQAAAAEAAAABAAAAAQAAAAEAAAABAAAAAQAAAAEAAAABAAAAAQAAAAEAAAAAAAAAAAAAAAAAAAABAAAAAQAAAAAAAAABAAAAAAAAAAEAAAABAAAAAQAAAAAAAAAAAAAAAQAAAAEAAAABAAAAAQAAAAAAAAABAAAAAAAAAAEAAAABAAAAAAAAAAEAAAABAAAAAQAAAAEAAAABAAAAAQAAAAEAAAABAAAAAQAAAAAAAAABAAAAAAAAAAEAAAABAAAAAQAAAAAAAAAAAAAAAQAAAAEAAAABAAAAAAAAAAAAAAABAAAAAQAAAAAAAAAAAAAAAAAAAAEAAAAAAAAAAQAAAAAAAAABAAAAAQAAAAEAAAAAAAAAAAAAAAEAAAABAAAAAAAAAAAAAAAAAAAAAQAAAAEAAAAAAAAAAQAAAAEAAAABAAAAAQAAAAEAAAAAAAAAAAAAAAAAAAAAAAAAAQAAAAAAAAABAAAAAQAAAAEAAAAAAAAAAAAAAAAAAAABAAAAAQAAAAAAAAABAAAAAAAAAAEAAAAAAAAAAQAAAAEAAAABAAAAAAAAAAAAAAAAAAAAAQAAAAEAAAABAAAAAQAAAAAAAAABAAAAAQAAAAEAAAABAAAAAAAAAAEAAAABAAAAAQAAAAAAAAABAAAAAAAAAAAAAAABAAAAAAAAAAAAAAABAAAAAQAAAAEAAAABAAAAAQAAAAAAAAAAAAAAAQAAAAEAAAABAAAAAAAAAAEAAAAAAAAAAAAAAAEAAAABAAAAAQAAAAEAAAABAAAAAQAAAAAAAAABAAAAAAAAAAAAAAAAAAAAAQAAAAEAAAAAAAAAAAAAAAEAAAAAAAAAAQAAAAEAAAABAAAAAQAAAAAAAAAAAAAAAAAAAAAAAAABAAAAAQAAAAEAAAABAAAAAAAAAAAAAAABAAAAAQAAAAEAAAABAAAAAQAAAAEAAAAAAAAAAAAAAAAAAAAAAAAAAQAAAAEAAAABAAAAAQAAAAEAAAABAAAAAQAAAAEAAAABAAAAAQAAAAEAAAABAAAAAAAAAAAAAAAAAAAAAQAAAAEAAAABAAAAAQAAAAAAAAABAAAAAQAAAAAAAAABAAAAAAAAAAEAAAABAAAAAQAAAAEAAAABAAAAAAAAAAAAAAABAAAAAAAAAAAAAAABAAAAAQAAAAAAAAABAAAAAQAAAAEAAAABAAAAAAAAAAAAAAAAAAAAAQAAAAAAAAABAAAAAAAAAAAAAAABAAAAAQAAAAEAAAAAAAAAAAAAAAEAAAAAAAAAAQAAAAAAAAABAAAAAQAAAAEAAAABAAAAAQAAAAAAAAAAAAAAAQAAAAAAAAABAAAAAAAAAAEAAAABAAAAAQAAAAAAAAABAAAAAQAAAAAAAAAAAAAAAAAAAAEAAAAAAAAAAAAAAAEAAAAAAAAAAQAAAAEAAAABAAAAAQAAAAEAAAAAAAAAAQAAAAAAAAAAAAAAAQAAAAEAAAAAAAAAAQAAAAEAAAAAAAAAAAAAAAAAAAAAAAAAAQAAAAEAAAABAAAAAAAAAAEAAAAAAAAAAAAAAAAAAAABAAAAAQAAAAEAAAABAAAAAQAAAAAAAAAAAAAAAQAAAAEAAAABAAAAAQAAAAEAAAABAAAAAQAAAAEAAAAAAAAAAQAAAAEAAAAAAAAAAAAAAAEAAAAAAAAAAQAAAAEAAAABAAAAAQAAAAAAAAABAAAAAQAAAAAAAAABAAAAAQAAAAAAAAABAAAAAQAAAAEAAAABAAAAAQAAAAEAAAABAAAAAgAAAAAAAAABAAAAAAAAAAEAAAABAAAAAQAAAAEAAAABAAAAAQAAAAEAAAABAAAAAgAAAAAAAAABAAAAAAAAAAAAAAABAAAAAAAAAAEAAAABAAAAAQAAAAAAAAABAAAAAAAAAAEAAAABAAAAAQAAAAEAAAAAAAAAAAAAAAEAAAABAAAAAQAAAAEAAAABAAAAAAAAAAEAAAABAAAAAQAAAAAAAAABAAAAAQAAAAEAAAAAAAAAAQAAAAEAAAAAAAAAAQAAAAEAAAABAAAAAQAAAAEAAAABAAAAAAAAAAEAAAABAAAAAQAAAAAAAAABAAAAAAAAAAEAAAAAAAAAAQAAAAAAAAABAAAAAQAAAAEAAAAAAAAAAQAAAAEAAAABAAAAAQAAAAIAAAABAAAAAAAAAAEAAAABAAAAAQAAAAAAAAABAAAAAQAAAAEAAAABAAAAAQAAAAEAAAABAAAAAQAAAAAAAAABAAAAAAAAAAEAAAABAAAAAQAAAAAAAAABAAAAAAAAAAAAAAABAAAAAAAAAAAAAAAAAAAAAAAAAAEAAAABAAAAAAAAAAEAAAAAAAAAAAAAAAAAAAAAAAAAAAAAAAEAAAABAAAAAQAAAAEAAAAAAAAAAAAAAAEAAAAAAAAAAAAAAAEAAAAAAAAAAQAAAAEAAAABAAAAAQAAAAEAAAABAAAAAQAAAAAAAAAAAAAAAQAAAAEAAAACAAAAAQAAAAEAAAABAAAAAQAAAAEAAAAAAAAAAAAAAAEAAAABAAAAAQAAAAEAAAABAAAAAAAAAAAAAAABAAAAAQAAAAEAAAAAAAAAAQAAAAEAAAAAAAAAAAAAAAEAAAAAAAAAAQAAAAEAAAABAAAAAAAAAAEAAAAAAAAAAAAAAAAAAAAAAAAAAQAAAAAAAAAAAAAAAQAAAAEAAAABAAAAAAAAAAEAAAABAAAAAQAAAAEAAAABAAAAAQAAAAAAAAAAAAAAAQAAAAEAAAABAAAAAAAAAAEAAAAAAAAAAQAAAAEAAAAAAAAAAAAAAAAAAAABAAAAAQAAAAEAAAABAAAAAAAAAAEAAAAAAAAAAQAAAAEAAAABAAAAAQAAAAEAAAAAAAAAAQAAAAEAAAAAAAAAAAAAAAEAAAABAAAAAQAAAAEAAAAAAAAAAQAAAAEAAAABAAAAAQAAAAEAAAAAAAAAAAAAAAEAAAABAAAAAQAAAAEAAAABAAAAAAAAAAAAAAAAAAAAAQAAAAEAAAAAAAAAAQAAAAEAAAABAAAAAQAAAAEAAAABAAAAAAAAAAEAAAAAAAAAAQAAAAEAAAAAAAAAAQAAAAEAAAABAAAAAAAAAAAAAAABAAAAAQAAAAEAAAABAAAAAAAAAAEAAAABAAAAAAAAAAEAAAABAAAAAAAAAAAAAAABAAAAAAAAAAEAAAAAAAAAAQAAAAAAAAABAAAAAQAAAAEAAAABAAAAAQAAAAEAAAABAAAAAQAAAAAAAAABAAAAAQAAAAAAAAABAAAAAQAAAAEAAAAAAAAAAAAAAAEAAAABAAAAAAAAAAEAAAABAAAAAQAAAAEAAAABAAAAAQAAAAEAAAABAAAAAQAAAAIAAAABAAAAAgAAAAAAAAABAAAAAQAAAAAAAAABAAAAAAAAAAEAAAABAAAAAQAAAAAAAAAAAAAAAAAAAAEAAAAAAAAAAQAAAAEAAAABAAAAAQAAAAEAAAABAAAAAAAAAAAAAAABAAAAAAAAAAEAAAABAAAAAQAAAAEAAAABAAAAAQAAAAEAAAABAAAAAAAAAAEAAAABAAAAAAAAAAAAAAABAAAAAQAAAAAAAAABAAAAAQAAAAEAAAAAAAAAAQAAAAEAAAABAAAAAQAAAAAAAAABAAAAAQAAAAAAAAABAAAAAQAAAAAAAAABAAAAAQAAAAEAAAABAAAAAQAAAAEAAAABAAAAAAAAAAAAAAABAAAAAAAAAAEAAAAAAAAAAQAAAAEAAAAAAAAAAQAAAAEAAAAAAAAAAAAAAAAAAAABAAAAAAAAAAAAAAABAAAAAQAAAAEAAAABAAAAAQAAAAAAAAAAAAAAAQAAAAEAAAAAAAAAAQAAAAEAAAABAAAAAQAAAAEAAAABAAAAAAAAAAEAAAAAAAAAAAAAAAEAAAAAAAAAAQAAAAAAAAABAAAAAAAAAAEAAAAAAAAAAQAAAAEAAAABAAAAAQAAAAAAAAABAAAAAQAAAAAAAAABAAAAAAAAAAEAAAABAAAAAQAAAAAAAAABAAAAAQAAAAAAAAABAAAAAAAAAAAAAAABAAAAAQAAAAAAAAAAAAAAAQAAAAAAAAABAAAAAQAAAAEAAAAAAAAAAAAAAAEAAAABAAAAAAAAAAEAAAABAAAAAAAAAAAAAAAAAAAAAQAAAAAAAAAAAAAAAQAAAAEAAAAAAAAAAQAAAAEAAAABAAAAAAAAAAAAAAABAAAAAQAAAAEAAAABAAAAAQAAAAAAAAACAAAAAAAAAAAAAAABAAAAAAAAAAEAAAAAAAAAAQAAAAEAAAACAAAAAAAAAAEAAAAAAAAAAQAAAAAAAAABAAAAAQAAAAEAAAAAAAAAAAAAAAEAAAAAAAAAAQAAAAEAAAABAAAAAQAAAAEAAAAAAAAAAQAAAAEAAAABAAAAAAAAAAEAAAABAAAAAAAAAAAAAAABAAAAAQAAAAEAAAAAAAAAAAAAAAAAAAABAAAAAQAAAAEAAAABAAAAAQAAAAEAAAABAAAAAAAAAAEAAAABAAAAAQAAAAEAAAABAAAAAQAAAAEAAAABAAAAAQAAAAEAAAABAAAAAAAAAAAAAAABAAAAAQAAAAEAAAAAAAAAAAAAAAAAAAAAAAAAAQAAAAAAAAABAAAAAQAAAAAAAAAAAAAAAQAAAAAAAAABAAAAAQAAAAEAAAAAAAAAAAAAAAEAAAAAAAAAAQAAAAAAAAABAAAAAQAAAAEAAAABAAAAAQAAAAAAAAABAAAAAQAAAAEAAAABAAAAAAAAAAEAAAABAAAAAQAAAAEAAAAAAAAAAAAAAAAAAAABAAAAAQAAAAEAAAACAAAAAQAAAAEAAAAAAAAAAAAAAAEAAAABAAAAAQAAAAEAAAABAAAAAAAAAAEAAAACAAAAAQAAAAAAAAABAAAAAQAAAAEAAAAAAAAAAAAAAAEAAAABAAAAAAAAAAEAAAABAAAAAQAAAAEAAAAAAAAAAQAAAAAAAAABAAAAAQAAAAAAAAAAAAAAAAAAAAEAAAABAAAAAQAAAAEAAAABAAAAAAAAAAEAAAABAAAAAAAAAAAAAAABAAAAAAAAAAAAAAABAAAAAAAAAAEAAAAAAAAAAQAAAAAAAAAAAAAAAAAAAAEAAAABAAAAAAAAAAEAAAABAAAAAAAAAAAAAAAAAAAAAQAAAAEAAAABAAAAAQAAAAEAAAABAAAAAQAAAAAAAAAAAAAAAQAAAAAAAAABAAAAAAAAAAAAAAABAAAAAAAAAAAAAAABAAAAAAAAAAAAAAABAAAAAQAAAAEAAAABAAAAAQAAAAAAAAAAAAAAAQAAAAEAAAABAAAAAQAAAAEAAAABAAAAAAAAAAAAAAABAAAAAAAAAAAAAAAAAAAAAAAAAAEAAAAAAAAAAQAAAAAAAAAAAAAAAQAAAAEAAAAAAAAAAQAAAAEAAAAAAAAAAQAAAAEAAAABAAAAAQAAAAAAAAABAAAAAAAAAAEAAAABAAAAAQAAAAAAAAABAAAAAAAAAAEAAAABAAAAAQAAAAEAAAABAAAAAQAAAAAAAAABAAAAAAAAAAAAAAABAAAAAQAAAAAAAAAAAAAAAAAAAAEAAAABAAAAAQAAAAAAAAABAAAAAQAAAAAAAAABAAAAAAAAAAEAAAADAAAAAAAAAAEAAAABAAAAAAAAAAAAAAABAAAAAQAAAAEAAAAAAAAAAQAAAAAAAAAAAAAAAAAAAAEAAAABAAAAAQAAAAAAAAABAAAAAQAAAAEAAAABAAAAAAAAAAEAAAABAAAAAQAAAAAAAAABAAAAAQAAAAAAAAAAAAAAAQAAAAAAAAABAAAAAQAAAAAAAAAAAAAAAQAAAAAAAAAAAAAAAQAAAAEAAAABAAAAAQAAAAEAAAABAAAAAAAAAAEAAAABAAAAAQAAAAAAAAAAAAAAAQAAAAEAAAABAAAAAAAAAAEAAAAAAAAAAQAAAAEAAAAAAAAAAAAAAAEAAAABAAAAAAAAAAEAAAABAAAAAQAAAAEAAAABAAAAAQAAAAEAAAABAAAAAAAAAAAAAAABAAAAAQAAAAEAAAABAAAAAQAAAAAAAAABAAAAAQAAAAEAAAAAAAAAAAAAAAEAAAABAAAAAQAAAAAAAAABAAAAAQAAAAEAAAAAAAAAAQAAAAAAAAABAAAAAAAAAAEAAAAAAAAAAQAAAAEAAAABAAAAAQAAAAAAAAAAAAAAAAAAAAEAAAABAAAAAQAAAAAAAAABAAAAAAAAAAEAAAABAAAAAQAAAAEAAAABAAAAAQAAAAEAAAABAAAAAQAAAAAAAAABAAAAAQAAAAEAAAABAAAAAQAAAAEAAAABAAAAAQAAAAAAAAAAAAAAAQAAAAEAAAABAAAAAAAAAAEAAAABAAAAAQAAAAEAAAAAAAAAAAAAAAEAAAABAAAAAAAAAAEAAAABAAAAAAAAAAEAAAABAAAAAAAAAAAAAAABAAAAAAAAAAEAAAAAAAAAAQAAAAEAAAABAAAAAQAAAAEAAAAAAAAAAQAAAAAAAAAAAAAAAQAAAAAAAAABAAAAAAAAAAEAAAABAAAAAQAAAAAAAAABAAAAAQAAAAEAAAAAAAAAAAAAAAEAAAABAAAAAQAAAAAAAAAAAAAAAAAAAAEAAAA=",
           "dtype": "i4"
          },
          "coloraxis": "coloraxis",
          "opacity": 0.7,
          "symbol": "circle"
         },
         "mode": "markers",
         "name": "",
         "scene": "scene",
         "showlegend": false,
         "type": "scatter3d",
         "x": {
          "bdata": "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",
          "dtype": "i2"
         },
         "y": {
          "bdata": "EQAIAAUABQABAAEADQACAAEAAgAGAAMABQAOAAkABAAOAAIABAADAAEAAQABAAMABwAFAAMAAwAEAAMAAgAEAAIABQAPAAYAAQAGAAMAAgACAAEACAADAAEABwABAAcAAgASAAEAAgABAAcAAQABAAcAAwABAAEABwAFAA4ADQAEAAEACAAGAAgAIQABABsABQACAAEACAAVAAsABwADAAMABQAMAAkAAQAhAAUACwAFAAYAAQAvAAIAAwADAAEAAQABAAUAAwABAAEAAQAGAAcACgADAAEACQAKAAQADgAEAAEAAQACAAQABwAIAAMAAQACAAoAAgABAIEAJQAJADYAAgAmAAwAAQADAAgAEgAgABsAEAABAAEAAgADAAEAFgABAAMAAwARAAIAAgAEAAMAAQAZAAIABQACAAYAAwABAAUAAgABABAAAgACAAIAAgABAAQABgAFAAMABgABAAIAHgASAAgAAwAFAAgAAgAMAAMAAQAGAAEAAgAFAAEAAgAIACQAAwAEAAEAAgACAAMAAwABAAYAAQABAAIAEQABAAEAAgAIAAIAAwAEAAEACQABAAEAAgACABEAAQAjAAEAAgADAAUAAQACAAsACQAHAAMAAgABAAQAHwASAAQABQABAAUACwAFAAMACAADABEAAQACAAUADwANABoABwABAAEAAgAFAAEAAgABAAoABwABAAIADQABAAsABwABAAEADgADACwAAQAJAAIABQANAAcABAACAAIABwAEAAoAAgAEAAEADgACAAMAAwABAAMADgAGAAoAAgAtAAUACgABAAUAAwADAAUAAQAMAAUAAQABAAEAAQAWAAMADAAFAAIAAQAMAAQACAABAAMAAwAHAAQADAADABcACQAEADgANQAbAAcABgABAAIAAQACAAEABwABAAsABAAHAAMABQABAAEABgAGAAEABwAKABYAAQABAB4ANwAEAAIAHAABAAwAAQACAAQAAQADACkACgAGAAUABwAEAAsADAAFAAEAAQATAAEABgADAAIAAQACAAEABAABAAIAAgACAA4AAwADACAAbQEQAAEAAQABAAsABQAWAAEAEwAIAAgAAQACAAIAAgABAAYACwABAAIAAQAHAAIAAQACAAEACAABAAEACgAVAAEABQAOAAgAAwAFAAEABQAEAAMAAwAIAAMAAwACAAEAAQAGAAQAAQADAAIACQABAAIABAAEAAMABQAIAAIABQABAAMAAQACAAIAAwACAAEADQACAAMAEgABAAIADwADAAYABAAHAAMAAgABAAEAMQARAAIADAAfAAsAKgAEACIABAAEAAEAAgABAAYAAQACAAIAEAALAAQACAAHAAIAAQABAAEAAgAHAAIABQADABAACAABAAQAAwANAAMAAwAFAAUAFAADAAQAAgABAAIABAABAAQAAwABAAQABgACAAwAAQABAAEAAwABAAQAAgABAAEAJAABAAEAAgADAAUAAwAHAA0ADgABAAUADQABAAgACAAIAAMACAAEAGcAAQADAA4AAwAEAAEADAACAAQARwAIAAsAAQATAAUACQABABQABAABAAMABAACAAIAAQALAAoAHAADABQABQACAAEADgAEABUAAgACAAQAAQACAA4AAQABAAEABQABAAEACgB4AAYAAQACAAgACAAEAAYAAgAaAAIAEQABAAEAAwAMAAYAAQAnAAcAAwABAAoABQACAAEAEAAEAAMABQAlAAMAAwAuAAYAAQABAAcAAQACAAEADwAfABIADgADAAEAJQAIAAUAGAABAAMAAwABAA0AFwADAAUAAgAFAAsAAgADAAQAAQAQAAMABAACAAQABAACAA0AAwADACoADQAFADkAAgAHAAEAAQAGAAEABAADAAwAAQABAAEAAQAGAAYAAwADAAIAKgAFAAEAAQACAAUAAQABAA4AXwAGAAUALAAZAAMAAgAKAAEAAQABAPcAHgAGAA8AWAARAAEAAQAoACkAAQABAAQAKgADAAkAAQADAA8AAgAHAA4AAQADADwAAQAXAAIAEwAMAAEAAQACAAIAAgAEAAEAEwABAAEAAgABAAgAAQADAAkAAgAYABEACAAJAAUAFQABAAIAAgAIAAEABAAkAAQABAAFAAkAAQAFAAYAAwAKAAUABQABAAIAEwACAAMAAwADAAUABgADAAEABQABAA0ADAAEAAEAAgAZAAEAAQABAAEAEgAMAAEABQAFAAEAAgAEAAEACAABAAIAAQAIAAEADABFAAQABAAIAAsAAQABAA8ABAAKABAAAQAMAAQADgAHAAEAAQAGAAEAAQAFAAIAAQAGAAMAEQACAAEAAQABAB8AAQAHAAQAAgACAAMAAQAHAAYACQABAAcABQABAAIADgAEAAIACQADAAEAAwAEAAEABAABAAMABQAJAAEAAgADACcAAQAFAB4AMgAPAB4AAQACAAIAAQABAAIABwAHAAUAAgAIAAMABwAEAAIABgABAAcABgABAAMACwAGAAcAAwAJAAYACAABAAUABQAEAAIAAQAHABAAAQADAAUABgAIAAIAAQAPAAQAAQAMAB8AAwBOAAkAAgABAAUAFwABAAEAFgABAA4ABgABAAEAAwAGAAEAAQACAAoAAQAMAAEAAQACAAMAAgAGAAEAAQABAAMAAQACAAEAAQABAAEABQABAAQABwACAAoAAwACAAQAAQABAAUAAgACAAQAAQAGAAIAAwADAAQAAQADAAEADwAFAAEADwABAAIAAQAEAAMAAQABAAEABgAYAAMABAANAAIAAwACAAEABAADAAIACQADAAYAhwABAAwAAQABAAgABwAFAAMABwAlAAEABAALAAIAAQACAAgAGAAGAAMABAAEAAkAAgAFAAUACwABAAcAAQADAAoAAgADAAcAAgABABIABAATAAEADgANAAMABQABAAsABwAEABgAAgACAAgABgABAAcAAgAHAAIAVwABAAIABAACAAoAAwAEAAcADQAHAAcAAgAOAAIAAQAEAA8AAwAFAB0ABAABABsAAwACAAEADQADAAcAAQAHAAUABQAGAAwAAQAIAAgABAACAAgAEQACAAQABAAEAAYABAAFAAEAAwAPAAMAAQAHAAUAAgAEAA4AAQACAAEABgABAAMAPAABAAcAAgAMAAkAAwADABIAAgAHAAMABQABAAMACQABAAIAIAABAAoAEAACABAABAACAAEACwAIAAIANgADAAUABQABAAQAAQAaAAEABgABAAUAIAAOAAEABgABAAIAAgACAAUABAABAAYADQAGABUACAAEABAAAwADAAIAAwAGADQAAgAEAAQAAQACAAIAAwADAAEAAQARAA4AAgAFAAYADAACAAkAAQACAAEAAQACAA8AAgABAAMACgABABMACwAMAAoAAQARAAYABgADAAEAAgABAAcABQAPAAUAAQADAAkACwAGABAABAAFAAEACwAIAAcAAgANABEAAgABABEABgABAAMABQABAC8AAwABAAEABwACAAIAAgADAAIAAQADAA0ABAABAAEABgAHAAMAAQABAAIAAQABAAgADQCkABAABAABAAIAAwAOAAIAAQADAAoABwACAAUAAQAWAAMADwACAAMAAQAVAAEACwACAAsABAACAAsABgABAAsAAgAJABAABQACAAIAAQADAAYAFgAMAAEAAQACAAUABAAOAAgAAgAEAAEAAgAJAAEADQABAAcABAADAAoAGQABABMAAgAGAAYABgAGAAYAAQABAGAACAAdAAQACgAJAAIAAQABAAgASQAFAAEAAwAEAA4ABAAPAAQACAAJAAEAAQABAAMAAwABAAEABAABAAQAfQANAAMAAQAYAAQACQACAAEABAAFAAMABAAEAAMADAAFAAoABAACAAEABwAFAAcAAgAIAA4AAgACAAMAAQACAAIAFAADAAIAAwAIAAMAAgAKAAEAAQABABMAAQABAAEABQABAAgABgACAAkAAgACAC0ABQAPAAcAAQACAAYAAwALAAYAAQAEAAEAAwACAAoAEgAVAAYACQAKAA4AAQAFAAQAAQARADMABgAaAA4AAgABAAEABwAIABYAAwAGAAEABQAIAAEAAwACAAIABwAUAAgAAQACAAMAAQABAAUAAgABABYAAQABAAMAAgAFAAIAAgAFAAUABQAFAAEACwAGAAEAAwAEAA4AAgAMAAEAAgABAAMABAADAAEACgAEABEAAQABAAEAAgAHAAEABQAGAAUAAwARAAwAAwADAAUAAwAMAAYAAgACAAMAEgADAAUAAQACAAEAJwACABIAAgABAAQADgAEAAEAAgALAAkAAgANAB4ADQAYAAEAAgALAAUAAQAHAAMAGAAGABIAAgADAAMAJAAIAAoAAgABAAsABQAHAAEAAgAEAAMAAwABAAYAAwABAA0AAQABAAQABQAHAAIAAgADAAoAAgABAAUAAgAWADcAGQABAAQACwABAAcACAACACoAAQABAAMACwATAAEAEwAEABIAAgAqAAIABAABAAMAHQAXAAIAAQAgAAMAGwANABUABAABAAIABQACAAEACQABAAIAAQAGAAEABgAJAAIABgAQAAIACwABACIAAQAFABQAAQABAAIAGwABAAIAAQAiAAIAAQAWAAEADgAIAAEABQAJAAEADQAFAAIAIwAFABsAHwAHAAIABQABAAEAAwABAAYABQABAAEAAwAFAAYABAAJAAQAAQAMAAYADwAZAAcAAgACAAQAAwAGAAQAAQABAAgADQAMAAIAAwACAAMACQABAAoAAQDKAAYAAQAZAAcABwACAAUAAgABAAIACAADAAIAAwACAAQABwABABEABgAOAAcAAgAqAAIABQACAAEAAQAFAAEACgAZAAEAEQABAAMANgAKAAEAAQANAAYAAQAMAAMAAQAEAAwABQABAAIAEwAVABoAAgACAAcACgAGACEAAQADAAQAEwABAAQACQAFAAkAFgADAAsAAwAGAAgACgAEAAoABwADAAMAGAADAAIAAgAXAAIABQADAAYAAwAMAAMABQABAAIAAQAEAAkACgAgAAEAAwACAAgAAQAIAAQAAQAJAAEAAgABAAIABAAEAAEABgANAA4AAQACAAEAAQAaAAQABAAJAAwABAACAAYADgAZABsACgABAAgAAwAGAFQAKQABAAcAAwACAAUABQAHAAsABQAMAAEAAwALAAEAAwAKAAYAAQABAAIABwAIAAYABAACAAEABAAGAAMAHAABAAIABQACAA4AAgAEAAEABQAFAAEAFAAJAAQAFAABAAUAAQABAAEABAABAAQAAwACAAMABAABAAMABgAEAAEAAQACAAgAAgABABMAAQACAAkAAQADAAEAAQADAAEAAgABAAQAAgACAAMAAwABAAMAAQADABQACwASAAEAAQABAAEAGAAHABcAAgAJAAUAGQABAAkADwABAAEACQALAAoAEQABAAQABAAJACAAAgABAAMABwAHAAcAFQAEAAEABQAbAAQABwABAAUABQAGAAEABgABAAIABwABAAUADwATAAwACAABAAEABQAGAAIACAAHABIABAABAAYABQAOAAEAAQADAAwADgAQAAQAAgALAA0ADAABAAQAAwACAAkAAgADAAcAAQAKAAQABAAFAAYADgADAAQAAQACAAgAAgAEAAIAAgAKAA4AAwAEAAoAAwAKAAoAAwADAA4ABgAEABsABwAOAAYAAQAEAAYABwAHAAoADwABAAIAAQACAAIAAgAIAAEADQAVAAEAvgABAAMAEwABAAwADwAmAAsAAQADAAUAAgAMAA4AAQAyAAMAAQAUAAkACQAEAAQACQADAAoABAAHAAMAAgAFAAEALgADAB4AAgAFAAcABAADAAIABAADAAEADwARAAEAAQABAAcAAQABAAEAAgABAAgACQAFAAMACgABAAEAHAAEAAMAEgACAAgAAQAGAAMAAgACAAEAAQABAAEABAADARsADAALAAIAAwABAAEAAQAGAAUAAgAJAAMAAwAQAAEADAAGABIADwADAAUAAwABAAcAAQABAAcAAQACAAEAAQALABAAAQABAAYADAAEAKQAAgATAAsAAQAJAAEADAABAAwABQAHAAIADAACAAEABwACAAIACQABAD0AAQAHAAMAAgAEAAcAAQACABAAAQACAAUAVwAGAAYAAQAGAA0ABgADACIAAQAFAAUADQAIAAEABAAKAAIABQAEAAUAEgAgAAEACwABAAEAAgAGABsADQAMAAQAGQAHAAgAAwACAAEABgADAAEAAwALAAEABQABAAQAAQADAAgAAwAYABIABQA7AAIABAAMABwADQAHAAEAAQARABEABAACABAAAQABAAIAAQACAAcAHgAEAAEABwADAAIAAwACAAEAAgADAA4AAQADABUACQADAAEAAgABAAMAEwAEAAIAAwACAAEAAQACAAMAAgABAAEAAwABAAoAAQACAAMADQABACcAAQAJAAIAFwABAAYAAwABAAcAAgACAA8AAgANAAEAAQAEAAEAAgABAAkABgAEAAkABwABAAMADAAbAAIAAQAOAAkAAQAHAAMAAQAJAAMAAwAMAAIAAwADAA4ACAABAAwAAQACAAQAAQAyAAkAAwAVAAcADgAHAAMACgABAAYAAgAOAAIAAQABAAQAFAATAA0ACQAJAAkABAACAAEABwACAAIAHAABAAMAAQAPAAcAAQAEAAEAAQABAAEAAwAEAAEABgAFADAACgAJABIAAQABAA0ABQAKAAQACgADABcAAgAFAAcA/gELAAgAAQANAAsAAgAJAAEAAwACAAIAAQADAAEAAwABAAIAAgAJAAYAAgAFAAkAAgAOAAQABAABAAIAAQAFAAEAGAABAAEABgAHAAYAAgABACsABQACAAEAAQACAAYABQACABwABAANAAEAAgAGAAcAAgABABAAAwACAAMAAQACAAgAAQAMAAEAAQADAAEAAQAGAAIAAgAJAAcAAQACAAEAAQABAAgAAgACAAUABAABAAEAAgAJAAcAAQBMAAIAAQACAAMAAQACAAMACgACABQABgABAAQAAQABABEABQAXABAAAgAFAA0ABgACAAkAEAAKAAsAEQABAAMAAgAKAGsAAQACAAIABgAvAAMAHAABAAUAAQAHAAoAAQADAAIAAwABAAYAEQAbAAQAigAIAAEABAAHAAIABgAEAAEAAwAEAAEACQADAAEABQAEAEAAEQACAA0AAQABAAIAAQACAAEAAwAGAAEABgAEACIAAgALAAEABQAFAAEADgALAAIAAgADAAkABwAMAAUABAAJAAUAAQAEAAwAAwAEAAkAAQABAAIAAgAQAAUABAAkAAIAAgAJABcAAQABAAUABQAKAAMABQAFAAIAAgAJAAkABwACACEABAADAAIAAQAFAA4AAgASAAEABAABAAMABwADACYABAABAAIAAgAKAAEAAQAFAAEAAgABAAIABQAIAAIAAQACAAEAAQARAAMACAAOAAQABAABAAUAEgABADoAAQADAAUAAQAnAAEAAgAKAAYACgABAA4ACAAPAAEAAwAEAAUABwABAAMAAgADAAMACAALAAIAAQAZAAIABwAHABEABgAIAAEAAQAJAAcAAQACAAIAAgABAAEAEAABAAQABQADABQADAABAAIABAAIAAMABAAEABUAAQAfAAcADAAEAAsAAgADAAIABAAeAAQAAwABAAMABAAGAAUABAADAB8AGgAGAAEAAgACAAUAAgAEAAcAAwAWAAEABAABAAEAAQAGAAoABwAeADUAAQABAAIAAQAUAAQAHQAPAAEAEwACAAQACwABAAoAAQACAAoAAQAOAQ4AAQAEAAMAAQACAAEAAQABABIAAwAEAAEACQAKAAEAAQAUAAIABAAGAAEAAwABAAEAAgABAAsAAQADAAIAAQAFAAIABAAGAAEAAgACAA8AAQAIAAcAAgANAAEANwAJAAEABAACAAMAAgAPAAcADQACAA0ACQABAAoAEgACAAEAAwAFAAIACQANAAYAFAABAAUAAwABAAEAAQAFAAIAAgAIAAUADQABAAIAAQADAAMACQACAAcAAgABAAIABgAEAAEAAgAKAAUAAQAHAAMAAQAJAAEAAgABAAYACgAIAAQAAwAEAAsAAwAEAAMAAwABAAQAAwANAAEAAwACAAEABAADAAMAAQAQAAIAAgAFAAYAAgAFAAEAAgAGAAcAAgABAAoAAQACAAIAAQADAAQAAQABACcABAAEAAcABgABAAMAAQALAAEAAQAFAAEAAwABAAcAAQAYAAoABwAIAAEAAQAFAAwAAgAHAAIACwAGAAEAAQALADcAAQAEAAIAGwACAAUABwAGAAEABgABAAEABQAEACkAFAABAAMAAQAXAAIAAQAYAAIAEgACAAUAAgAfAAEADQAFAAIADAAFAAEACgABAAEACwABAAIAAQAEAAIAGgACAAMAHAABAAkADgAJAAIAAQABAC4AAQABAAIAAQACAAkAAwALAAIAAgACAAEAAwAKABsADgAKAAUABwABAAEABQABAAcADgArAAMAAQAHAAEABAAHAAEABAAGAAMAAQABAAYAAQAQAAMABAADAAUAIwAZAAMAAQAKABMADQAFAAIAAQAgAAIAAQAHADYAAQADAAUAAQAIAAYAHgAIAAQADgAEAAIAFQAEAAQAAQAKABIAAgABAAQABQAJAAUAIgAMAAEABgAEAAQABgABAAQABAADAAUABgACAAIAAgAEAAEADQADABIACAACAAEABwAFAAIAAQABAAUAAwAKAAEACgASAAQABQADAAMABAAMABAAAwACAAYAAQABAAsAAQADAAIABQABAAEAHQAEABUAAQABAAEAAwAEAAIAAQAIAAEABwAEAA4AAgABAAIADQAGAAUABQALAAUAAQAnAAIAAQAPAAQABQABAAEADwADAAUABwABAAwAAQAEAAEAAwAMAC0AAQABAAIAAQAEAAEABgACAAoAAwAEABgADgAKAAEADAAUAAQABgABAAoABQABAAIAAwAOAAEABAACACQAMwABAAMAAQACAAcAAgABAAkAAQACAAMABAAGAAEAAgAaAAkAAwACAAcAAQAJAAIACQACAAgAFgAGAAMABAAHAAQAAwAEABMAKAADAAYAGAAJAA0ACgANAAIACAAFAAMAAwABAAsAAQACAAgABgACAAEABgAqAAEAAgACAAQAAQABAAkABAACAAIAJgAFAAMADAADAAEAAQAOAAEABQABAAEABgABAAMAAQAVAAYAOgACAA8AAQARAA8ADQAFAAkABQABACMAAQADAAQAAQAEAAUAGQABAAIAAwACAAQAAgAIAAoAAgADABQABAADAAQACQAFAAEAAQABAAIAAQABAAIAHQABAAUACQABAA8AAQABAAwAAwACAAEADwAKAAkAAQACAAEAEQAFAAMAAgAJAAQAAgABAAEAAQABAAEAAQABAAEAAQALAAMAAgADAAIAAQAJABEAAwACAAEAAgAEAAQAAwABAAMAAgANAAQABAAVAAEAGQACAAMABAADAAUAAQABAAIAAQAOAAIADQABAAYAAgAUAAUABQAIAAEABgACAAUAAQAJABsAAQAIACAACAACAAgAAwACAAcAAQADAAoABQABAAgAAQAVAAEAAwACAAEACgAFAAsAAgAHAA8ABAAMAB4ABQBeAAYABAAOAAUABAAjAAMAAgABAAMAAwABAAEAEgABAH0AAQACAAYAJAAHAAEABAAHAAQAAwAIAAMACwAIAAEACQABAAEABgAGAAMAAQABAAgABwABAAEAEQABAAwAAwADAAgAAQABAAoABQAGAAEAAQACAAQABAACAAEAAwALAAIAAgADAAYACAABAAQAAQANAAsABQACAAIAAQACAAoAAQATAAEABAABAA4ACAABAAcAAwAbAAsABQABAAcACAAEAAQAAQAEAAEAAQAMAAIABAAFAAgABwAGAAYAAQAGAA4ADwACAA4AAwAEAA8AAgBOAAcAAgAFAAEABAAFAAUAAgABABAAAQAdAAQABwAEAAMAFAABAAEADQABAAYAGgAEAAoABQAEADkAAQAOAAQAAQAEAAYASQAEABkAAQAIAAcABwAHAAcADAACAAEAEAABAAkABAAHAAMAHgARAAYAAgAIACgAAQACAAEAAQABAAkAAgAHAA0ABgALAAcABAAHAA4AAQAKAAkAJQAEAAUAAQAEAAEAAQAEABMAAQABAAoAAgACAAUAEgAFAAYABAAHAAIABAAKAAwABAALAAEAAQABAAcABQAQABIAAgACAAUAAgABAAEABQADAAEAAgAJAAMAEwAEAAEAEAADAAEABgADAAEAAgAPAA4AAQACAAIAAQALAAEAAgABAAMAAwABAAcACgABAAQAAwAMAAMAAQAEAAUAAQACAAQAAQAJABMAAQAEAAYABAAJAAIAAwABAAIACQABAAEACgADAAcAAwACAAIAAQACAAMAAgATAAYAAQABAAgACgACAAIAAwARABoAFAABAAQACAAGAA0AFgABAAgABAABAAEAAQADAAoABAADAAQAAgABAA0ACAABAAwAEgACACkABQACAAcABAAGABQACAAEAAsAAQACABAABAADAAMABwAEAAEABgACAAUAAgADAAIAAwAFAAEAAgACAAkABAAFAAMABQABAAUAAwAEAAMAHgAJABEAAwABAAQAAwAJACcAAgACAAIAAgAEAA4AAQAMAAEABAAFAAIABQADAAoAAQAFAAkAAQADAJIAAQADAAEACgACAAQAAQAHAAMAAQACAA0AAwAEAAIABQABAAYABgAFAAEAFAAEAAQAAwACAAMABAAEAAIAAgAIAA0ADgABAB4AAQADAAMABAAHAAMAAwAQAAgAAwAFAAwABgACAAUACwAEAAMACwADAAIAAQADAAEAAQADAAcAAQACAAQAAgACAAMAAQAJAAEAAwAHABcAAwANAAoAAQACAA0AAQABAAIAAQABAAEABgAGAAEABAABAAoAAQABAAYABAAIAAMAAgAnAAIANgACAAIAAQAEAAEADAAFAAUAAQADAAIAAQADAAoAAQACAAIAAgAGAAIABwABAAEAJQAdAAcAAgAkABIACgAYAAIALwABAAoAAgABAAcAAQAFAAYAAgACAAUAHwARAAQABAADAAEABQABAAEAAgABAAIAAQACAAcAAgADAAEABAAEAAMAAQAiAAkAAQAFAAQAAQACAAEAEAADAAUAAgADAAEAAgAdAAIACQABAAcACgABAAMAAgACAAEABgAFAAYABAACAAUAAgAGABQAAQAIAAIAAgAIAAIABwAKAAEABAAFABAABQABAAIABQADAAIAAQACAAQABAABAAcAAQAYAAMACQAOACwABAAJAAEACAAFAAEAAQABAAEAAgACAA0ABQAhAAMAFwABAAIAAgAHAAMAEQADAAMABwAFAAIAQQACABIAAQAEAAMABQACAAQABQABAAIABAABAAIACAAfACIABQABAAIAPQADAAQAAQAOABcACgANACkABwACAAQAFAAFABEABAABABoABAABABAABwAEAAQAGgAEAAEACQABAAMAFgAIAAIAAQAEAAEAAQAPAA8ABwASAC4ABAAPAAIABQABAAEAAQAjAAoACQACAAEABAABAAEAAwADABIAAgACABAADgAEAAsACgAFAAMACQARAAIABgACAD4AAwADADIAAQAFAAEAAQAEAAUAAQAIABIABQABABEABQABAAkABAADAAEABQACAAEAAwAFAAQACAACAAoABAACAAUACgAlAAIABAASAA0AAgABAAEAAwAIAAMABQABAAUAAgACAAUAAQAFAAYAAgAKAAQADAAGADMAAwAOAAQAJgACAAEAAwACAAQAAQABAAMAAgABAAIAAgADAAEAEAAKAAQABgAEAAUAAgABAAMAAQADAAUAAQAHAAYAEQABABQAAQAGAAIAAgAIAAEAAwAUAAQABAACAAMAAwAGAAMACwAJAAIABQAFAAEAAwAGAAgABQABAAEABAAVABQABwAJAAIAAgAIAAMAEgADAAEACwAEAAMAEwAcAAEAAwABACkABAABAAYAAwAhAAcAAwAXAAMAEAAHAAMAAgABAAoAAwALAAEACgAHAAEAIwAGAAoABwAHAAwABAAFAAEAFQAJAAIAAgABAAEACQAGAAEAAQACAAEACgABAAIAAwABAAIAAgABAAIABQABAAQAAwAMAAMAAQABAAwAEwAaAAsADAACAAYAAgABAA8AAwABAAEADQADAAcAAgACABMACAAEAAQAAwAIAAgAAQABAAIABAABAAIABAADAAEAKQAGAA0AAgAGAAIAAwADAAUAAwAKAAMABwABAAYADQAEAAcABQABAAIAAgABAAIABwAFAAgAEAAFAAUABgALABkADAAEAAEAAgAGAAEAAQABAAMACgABAAwABwAXAAMAAwABAAMAMQAVAAIAFAABAAQAAQALAAYAAQACAAEACAAGAAYACwAEACAABgABAAQAAQAPABcADgABAAMADAARAAoAAwABAAIABwABAAEAAQACAAEADQABAAoAAwACAAEACAAKAA0AAQABAAEAAwABAAEABAADAAEAAQALAAUAAQABAAEABQACAA0AAwALAAEABgAHAB0AAQAEAAQAAgACAAcAEAAQAAEAAQAGAAEABQABAAEABwACABQABgAGABIAAQALAAQACAAIAAMAAwABAAYAAwACAAYACQABAAUAAwABAAEABgAOAAMAAgAIAAIAAwACAAIAEQAFAAgAEAABAAwAAwABAAEAAQADAAEABAAFAAEACgAPAAMAAQABAAEAAwABAA8AAwAUAAcAAQABAAIAEgACABUABQAGAAMAAQABAAMADAANAAIAFwAjAAIAAwABAAgADAAEACAABgABAAwABQBQAAUAAgACAAEAAgABAAIABAACAAEAAwAEAAUAAgACAAYAAQABAAsAAQABAAIABQACAAsAAQACAAEABQABAAIAAQACAAIAAgABAAEABgAFAAEACwACAAMAFwALAAsACAABAAIAEQACAAMAAQABAAYABgACAAIABgABAAEAAQAXAA8AAgADAAIABwADAAIAFgAxAAEABQABAAEABgAGAAcADgANAAMAAgACAAEABQAEAAEABQABAAQAAgABAAcAFAAEAB4ABQAHAAYAAwAMABsAAQAJAAUACAAMAAEABwAEAAEABQACAAUAAgAHAAUACAADAB8AEAADAAEAEAABAAQABgAfAAcABAAFAAQAWwACAAEABAAnAAgAAgADAAEABwACAAsATQABAAIAAwACAAEAAQAQAAMAAwABAAgAAQAaAAIAHAAFABIAAQAEAAoABQAJABMAAgAGAAEAGQABAAMAFAAIAAMAFAAFAAEAAgARAAEAMwAHAAQAAQAJAAIACQABAAcAAQAGAAEABgABABcAAQADAAEAAgACADYADgA9AAoAAQACAAsAAQACABIAAgACABUAAwADAAkABAAJAAIAAQADABYACwABAAQAAwABAAEABAAFAAIAAQADAAUAAgAEAAIAAQABAAEAAQACAA0AEgADAAEAAQAEAAUAAgABAAMAAwACAAQAAgATAAUAAgACAAkACwACAFUAFAADAAIACQAGAAEAAgARAAEABgAFAAQABAADABAABgALAAIADQAJAAEAAQAFAAEAAwACAAEABwAHAAEAAwABAAMABgABAAQABgACAAoAAQAQAAQABQAFAAIABAABAAEACQAEAAgABQADAAEAAgALAAEAAQACAAUACgAEAAEAAQAtAAIACgAFAAUANQAGAAEABwAHAAEAAQAJABUAAwAJAAIADwAEAAIADgAHAAEAAwABAAIAEgALAAYAAQABAAEABAAOAAgAIwAgABEAAQAHAAQAAgANAAEAAQAIAAMABwAEAAgAAQACAAEACwACAAcAAgAJAAkABAACAAIAAgAGAAgAAQAFAAIAHAABABAAAwAGAAUAAQAWABIABQABAAoABQABAAMAEQACAAEAAgAXAAQAAQAFAAwAAgAKAAEABwAJAA8AAgBaAA0AWwADAAsABAAGAAwAAwABAA4ACQABAAIAAgAVAAUADgADAAMABgAwAAEAAQACABEAAQAJAAQAAgAMACsACQAEAAUAAQACAAEABAAJAAIAGwABAAMAEgAMAAEABwAHAAQADgAIAAIACAABABcABwAKAAIABgAdAAQAAgAPABQABgACAAsAAgAIAAIABwACAAEAAwAJAAEAAQAFABAAAQADADwADAAFAAcAAQABAAUABQAEAAIAAgAIABUABQAEAAMAAgANAAEAAwADAAEABQADAAIAAgADAAEAAwACAAQAAgACABQAAQACAAEAAgACAAcACAABABcACQAEABAAAQAEAAIAAQADAAQAGAADADwABwAHAAIAAQAGAAcAAQANAAMAAQAFAAIAAQAEAAEABwAJAAYAAwABAAEAAQACAAMAAQAKAA8AAQABACEBAQACAAEABAABAAIAHwAIAJ8ABgAFAAMABgABAAYAGgAgAAEABAAWAAQADAAFAD4ABAAUAAEABwAOAAUAAQAUAAcAAQADAAEAAwABAAMAAQACAAgAFwABAAcAAQAfAAcAAgABAAMAAQAUAAEAAQAKAAQAAQAEAAMAAQABAAIADgABAAEABwABAAEAAQAHAA4AAQABAAIAAwADAAIAOAAMAAEAAwAOAAEABQABAAMADQAPABIAAwABAAMACAABAAcAAQABABYABAABAAEAAQADAAIAAQABAIoACAAFAAQAAQAaAAYAAQABAAIAAQADAGYABQAEAAIAIQAKAAIABAAbAAEAAQABAAEABgAaAAEAAwAEAAUABAABAAEAAQAFAAEAAQAGAA8AAQAHAAMAAQABAA4AAwADAAwABAADAAEABgAEAAEAAQACAAQAAQAXAA4AAQACAAEAAgABAAEABwAEAAUAAQACAAIABQABAAMABgACAAEAAQABAAMAAQABAAEAAwAFAAsADwABAAQAAgAoAAIAAwATAAEAAQACAAMAAgACAAgAAQAGAAEADwADAAMAAwAEAAIAHQAJAAIADwAgAAMAAQABAA0AAgAGAAIADQACAB8AAQASAAQABQACAAMAAQABAAUABAABABUAAQABAAEAAQAUAAkADwAFAAYADgABAAEAAQAFAJkAAQABAAEABgABAAQALQADAAIABAABAAEAAQANAAEAIwABAAEAAgAGAAMAAQAFAAEABAABAAEABAABAAEAAgACAA0ACQACAAEACAABAAQABAACABMADAACAAIAAQAHAAMABwABAAEABQAEAAIAAQADAAEAAwAHAAEAAgACAAEAAQAGABYAAQAJAAsAPwAFAAIAAQACAAoADwAIAAYABwABAAYAAQABAAEAAwAIAAUABgACAAEABQAHAAEABAACABUAAgABAAEAAwAEAAQAAgABAAMAAQABAAcABQACAAEABQAGAAEABgAGABMACwAIAAEANAABACIAJgADAAMAHAAMAB4ABQABAAEAAwAMAAUAAQAGAAEAFwAIAAEAAgAXAAMABgAEAAEAAgAJAAgAAQABAAIAAgASAAgABwAgAAIAAwAEAAEAAgABAAIACAACAAQAAgALAAQAAgACAAoACAACAAEAAwACAAMAFgACAAEAAwAIAA==",
          "dtype": "i2"
         },
         "z": {
          "bdata": "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",
          "dtype": "f8"
         }
        }
       ],
       "layout": {
        "coloraxis": {
         "colorbar": {
          "title": {
           "text": "Cluster"
          }
         },
         "colorscale": [
          [
           0,
           "#0d0887"
          ],
          [
           0.1111111111111111,
           "#46039f"
          ],
          [
           0.2222222222222222,
           "#7201a8"
          ],
          [
           0.3333333333333333,
           "#9c179e"
          ],
          [
           0.4444444444444444,
           "#bd3786"
          ],
          [
           0.5555555555555556,
           "#d8576b"
          ],
          [
           0.6666666666666666,
           "#ed7953"
          ],
          [
           0.7777777777777778,
           "#fb9f3a"
          ],
          [
           0.8888888888888888,
           "#fdca26"
          ],
          [
           1,
           "#f0f921"
          ]
         ]
        },
        "legend": {
         "tracegroupgap": 0
        },
        "scene": {
         "domain": {
          "x": [
           0,
           1
          ],
          "y": [
           0,
           1
          ]
         },
         "xaxis": {
          "title": {
           "text": "Recency"
          }
         },
         "yaxis": {
          "title": {
           "text": "Frequency"
          }
         },
         "zaxis": {
          "title": {
           "text": "Monetary"
          }
         }
        },
        "template": {
         "data": {
          "bar": [
           {
            "error_x": {
             "color": "#2a3f5f"
            },
            "error_y": {
             "color": "#2a3f5f"
            },
            "marker": {
             "line": {
              "color": "#E5ECF6",
              "width": 0.5
             },
             "pattern": {
              "fillmode": "overlay",
              "size": 10,
              "solidity": 0.2
             }
            },
            "type": "bar"
           }
          ],
          "barpolar": [
           {
            "marker": {
             "line": {
              "color": "#E5ECF6",
              "width": 0.5
             },
             "pattern": {
              "fillmode": "overlay",
              "size": 10,
              "solidity": 0.2
             }
            },
            "type": "barpolar"
           }
          ],
          "carpet": [
           {
            "aaxis": {
             "endlinecolor": "#2a3f5f",
             "gridcolor": "white",
             "linecolor": "white",
             "minorgridcolor": "white",
             "startlinecolor": "#2a3f5f"
            },
            "baxis": {
             "endlinecolor": "#2a3f5f",
             "gridcolor": "white",
             "linecolor": "white",
             "minorgridcolor": "white",
             "startlinecolor": "#2a3f5f"
            },
            "type": "carpet"
           }
          ],
          "choropleth": [
           {
            "colorbar": {
             "outlinewidth": 0,
             "ticks": ""
            },
            "type": "choropleth"
           }
          ],
          "contour": [
           {
            "colorbar": {
             "outlinewidth": 0,
             "ticks": ""
            },
            "colorscale": [
             [
              0,
              "#0d0887"
             ],
             [
              0.1111111111111111,
              "#46039f"
             ],
             [
              0.2222222222222222,
              "#7201a8"
             ],
             [
              0.3333333333333333,
              "#9c179e"
             ],
             [
              0.4444444444444444,
              "#bd3786"
             ],
             [
              0.5555555555555556,
              "#d8576b"
             ],
             [
              0.6666666666666666,
              "#ed7953"
             ],
             [
              0.7777777777777778,
              "#fb9f3a"
             ],
             [
              0.8888888888888888,
              "#fdca26"
             ],
             [
              1,
              "#f0f921"
             ]
            ],
            "type": "contour"
           }
          ],
          "contourcarpet": [
           {
            "colorbar": {
             "outlinewidth": 0,
             "ticks": ""
            },
            "type": "contourcarpet"
           }
          ],
          "heatmap": [
           {
            "colorbar": {
             "outlinewidth": 0,
             "ticks": ""
            },
            "colorscale": [
             [
              0,
              "#0d0887"
             ],
             [
              0.1111111111111111,
              "#46039f"
             ],
             [
              0.2222222222222222,
              "#7201a8"
             ],
             [
              0.3333333333333333,
              "#9c179e"
             ],
             [
              0.4444444444444444,
              "#bd3786"
             ],
             [
              0.5555555555555556,
              "#d8576b"
             ],
             [
              0.6666666666666666,
              "#ed7953"
             ],
             [
              0.7777777777777778,
              "#fb9f3a"
             ],
             [
              0.8888888888888888,
              "#fdca26"
             ],
             [
              1,
              "#f0f921"
             ]
            ],
            "type": "heatmap"
           }
          ],
          "histogram": [
           {
            "marker": {
             "pattern": {
              "fillmode": "overlay",
              "size": 10,
              "solidity": 0.2
             }
            },
            "type": "histogram"
           }
          ],
          "histogram2d": [
           {
            "colorbar": {
             "outlinewidth": 0,
             "ticks": ""
            },
            "colorscale": [
             [
              0,
              "#0d0887"
             ],
             [
              0.1111111111111111,
              "#46039f"
             ],
             [
              0.2222222222222222,
              "#7201a8"
             ],
             [
              0.3333333333333333,
              "#9c179e"
             ],
             [
              0.4444444444444444,
              "#bd3786"
             ],
             [
              0.5555555555555556,
              "#d8576b"
             ],
             [
              0.6666666666666666,
              "#ed7953"
             ],
             [
              0.7777777777777778,
              "#fb9f3a"
             ],
             [
              0.8888888888888888,
              "#fdca26"
             ],
             [
              1,
              "#f0f921"
             ]
            ],
            "type": "histogram2d"
           }
          ],
          "histogram2dcontour": [
           {
            "colorbar": {
             "outlinewidth": 0,
             "ticks": ""
            },
            "colorscale": [
             [
              0,
              "#0d0887"
             ],
             [
              0.1111111111111111,
              "#46039f"
             ],
             [
              0.2222222222222222,
              "#7201a8"
             ],
             [
              0.3333333333333333,
              "#9c179e"
             ],
             [
              0.4444444444444444,
              "#bd3786"
             ],
             [
              0.5555555555555556,
              "#d8576b"
             ],
             [
              0.6666666666666666,
              "#ed7953"
             ],
             [
              0.7777777777777778,
              "#fb9f3a"
             ],
             [
              0.8888888888888888,
              "#fdca26"
             ],
             [
              1,
              "#f0f921"
             ]
            ],
            "type": "histogram2dcontour"
           }
          ],
          "mesh3d": [
           {
            "colorbar": {
             "outlinewidth": 0,
             "ticks": ""
            },
            "type": "mesh3d"
           }
          ],
          "parcoords": [
           {
            "line": {
             "colorbar": {
              "outlinewidth": 0,
              "ticks": ""
             }
            },
            "type": "parcoords"
           }
          ],
          "pie": [
           {
            "automargin": true,
            "type": "pie"
           }
          ],
          "scatter": [
           {
            "fillpattern": {
             "fillmode": "overlay",
             "size": 10,
             "solidity": 0.2
            },
            "type": "scatter"
           }
          ],
          "scatter3d": [
           {
            "line": {
             "colorbar": {
              "outlinewidth": 0,
              "ticks": ""
             }
            },
            "marker": {
             "colorbar": {
              "outlinewidth": 0,
              "ticks": ""
             }
            },
            "type": "scatter3d"
           }
          ],
          "scattercarpet": [
           {
            "marker": {
             "colorbar": {
              "outlinewidth": 0,
              "ticks": ""
             }
            },
            "type": "scattercarpet"
           }
          ],
          "scattergeo": [
           {
            "marker": {
             "colorbar": {
              "outlinewidth": 0,
              "ticks": ""
             }
            },
            "type": "scattergeo"
           }
          ],
          "scattergl": [
           {
            "marker": {
             "colorbar": {
              "outlinewidth": 0,
              "ticks": ""
             }
            },
            "type": "scattergl"
           }
          ],
          "scattermap": [
           {
            "marker": {
             "colorbar": {
              "outlinewidth": 0,
              "ticks": ""
             }
            },
            "type": "scattermap"
           }
          ],
          "scattermapbox": [
           {
            "marker": {
             "colorbar": {
              "outlinewidth": 0,
              "ticks": ""
             }
            },
            "type": "scattermapbox"
           }
          ],
          "scatterpolar": [
           {
            "marker": {
             "colorbar": {
              "outlinewidth": 0,
              "ticks": ""
             }
            },
            "type": "scatterpolar"
           }
          ],
          "scatterpolargl": [
           {
            "marker": {
             "colorbar": {
              "outlinewidth": 0,
              "ticks": ""
             }
            },
            "type": "scatterpolargl"
           }
          ],
          "scatterternary": [
           {
            "marker": {
             "colorbar": {
              "outlinewidth": 0,
              "ticks": ""
             }
            },
            "type": "scatterternary"
           }
          ],
          "surface": [
           {
            "colorbar": {
             "outlinewidth": 0,
             "ticks": ""
            },
            "colorscale": [
             [
              0,
              "#0d0887"
             ],
             [
              0.1111111111111111,
              "#46039f"
             ],
             [
              0.2222222222222222,
              "#7201a8"
             ],
             [
              0.3333333333333333,
              "#9c179e"
             ],
             [
              0.4444444444444444,
              "#bd3786"
             ],
             [
              0.5555555555555556,
              "#d8576b"
             ],
             [
              0.6666666666666666,
              "#ed7953"
             ],
             [
              0.7777777777777778,
              "#fb9f3a"
             ],
             [
              0.8888888888888888,
              "#fdca26"
             ],
             [
              1,
              "#f0f921"
             ]
            ],
            "type": "surface"
           }
          ],
          "table": [
           {
            "cells": {
             "fill": {
              "color": "#EBF0F8"
             },
             "line": {
              "color": "white"
             }
            },
            "header": {
             "fill": {
              "color": "#C8D4E3"
             },
             "line": {
              "color": "white"
             }
            },
            "type": "table"
           }
          ]
         },
         "layout": {
          "annotationdefaults": {
           "arrowcolor": "#2a3f5f",
           "arrowhead": 0,
           "arrowwidth": 1
          },
          "autotypenumbers": "strict",
          "coloraxis": {
           "colorbar": {
            "outlinewidth": 0,
            "ticks": ""
           }
          },
          "colorscale": {
           "diverging": [
            [
             0,
             "#8e0152"
            ],
            [
             0.1,
             "#c51b7d"
            ],
            [
             0.2,
             "#de77ae"
            ],
            [
             0.3,
             "#f1b6da"
            ],
            [
             0.4,
             "#fde0ef"
            ],
            [
             0.5,
             "#f7f7f7"
            ],
            [
             0.6,
             "#e6f5d0"
            ],
            [
             0.7,
             "#b8e186"
            ],
            [
             0.8,
             "#7fbc41"
            ],
            [
             0.9,
             "#4d9221"
            ],
            [
             1,
             "#276419"
            ]
           ],
           "sequential": [
            [
             0,
             "#0d0887"
            ],
            [
             0.1111111111111111,
             "#46039f"
            ],
            [
             0.2222222222222222,
             "#7201a8"
            ],
            [
             0.3333333333333333,
             "#9c179e"
            ],
            [
             0.4444444444444444,
             "#bd3786"
            ],
            [
             0.5555555555555556,
             "#d8576b"
            ],
            [
             0.6666666666666666,
             "#ed7953"
            ],
            [
             0.7777777777777778,
             "#fb9f3a"
            ],
            [
             0.8888888888888888,
             "#fdca26"
            ],
            [
             1,
             "#f0f921"
            ]
           ],
           "sequentialminus": [
            [
             0,
             "#0d0887"
            ],
            [
             0.1111111111111111,
             "#46039f"
            ],
            [
             0.2222222222222222,
             "#7201a8"
            ],
            [
             0.3333333333333333,
             "#9c179e"
            ],
            [
             0.4444444444444444,
             "#bd3786"
            ],
            [
             0.5555555555555556,
             "#d8576b"
            ],
            [
             0.6666666666666666,
             "#ed7953"
            ],
            [
             0.7777777777777778,
             "#fb9f3a"
            ],
            [
             0.8888888888888888,
             "#fdca26"
            ],
            [
             1,
             "#f0f921"
            ]
           ]
          },
          "colorway": [
           "#636efa",
           "#EF553B",
           "#00cc96",
           "#ab63fa",
           "#FFA15A",
           "#19d3f3",
           "#FF6692",
           "#B6E880",
           "#FF97FF",
           "#FECB52"
          ],
          "font": {
           "color": "#2a3f5f"
          },
          "geo": {
           "bgcolor": "white",
           "lakecolor": "white",
           "landcolor": "#E5ECF6",
           "showlakes": true,
           "showland": true,
           "subunitcolor": "white"
          },
          "hoverlabel": {
           "align": "left"
          },
          "hovermode": "closest",
          "mapbox": {
           "style": "light"
          },
          "paper_bgcolor": "white",
          "plot_bgcolor": "#E5ECF6",
          "polar": {
           "angularaxis": {
            "gridcolor": "white",
            "linecolor": "white",
            "ticks": ""
           },
           "bgcolor": "#E5ECF6",
           "radialaxis": {
            "gridcolor": "white",
            "linecolor": "white",
            "ticks": ""
           }
          },
          "scene": {
           "xaxis": {
            "backgroundcolor": "#E5ECF6",
            "gridcolor": "white",
            "gridwidth": 2,
            "linecolor": "white",
            "showbackground": true,
            "ticks": "",
            "zerolinecolor": "white"
           },
           "yaxis": {
            "backgroundcolor": "#E5ECF6",
            "gridcolor": "white",
            "gridwidth": 2,
            "linecolor": "white",
            "showbackground": true,
            "ticks": "",
            "zerolinecolor": "white"
           },
           "zaxis": {
            "backgroundcolor": "#E5ECF6",
            "gridcolor": "white",
            "gridwidth": 2,
            "linecolor": "white",
            "showbackground": true,
            "ticks": "",
            "zerolinecolor": "white"
           }
          },
          "shapedefaults": {
           "line": {
            "color": "#2a3f5f"
           }
          },
          "ternary": {
           "aaxis": {
            "gridcolor": "white",
            "linecolor": "white",
            "ticks": ""
           },
           "baxis": {
            "gridcolor": "white",
            "linecolor": "white",
            "ticks": ""
           },
           "bgcolor": "#E5ECF6",
           "caxis": {
            "gridcolor": "white",
            "linecolor": "white",
            "ticks": ""
           }
          },
          "title": {
           "x": 0.05
          },
          "xaxis": {
           "automargin": true,
           "gridcolor": "white",
           "linecolor": "white",
           "ticks": "",
           "title": {
            "standoff": 15
           },
           "zerolinecolor": "white",
           "zerolinewidth": 2
          },
          "yaxis": {
           "automargin": true,
           "gridcolor": "white",
           "linecolor": "white",
           "ticks": "",
           "title": {
            "standoff": 15
           },
           "zerolinecolor": "white",
           "zerolinewidth": 2
          }
         }
        },
        "title": {
         "text": "3D RFM Cluster Visualization (Interactive)"
        }
       }
      }
     },
     "metadata": {},
     "output_type": "display_data"
    }
   ],
   "source": [
    "# Visualize Clustering on 3D Scatter plot\n",
    "fig = px.scatter_3d(\n",
    "    rfm,\n",
    "    x='Recency',\n",
    "    y='Frequency',\n",
    "    z='Monetary',\n",
    "    color='Cluster',\n",
    "    title='3D RFM Cluster Visualization (Interactive)',\n",
    "    size_max=18,\n",
    "    opacity=0.7\n",
    ")\n",
    "fig.show()"
   ]
  },
  {
   "cell_type": "code",
   "execution_count": 26,
   "id": "e8b4af12",
   "metadata": {},
   "outputs": [],
   "source": [
    "# # Export dataset for data visualization in Power BI\n",
    "# sales.to_csv(\"./Dataset/Cleaned Sales Data.csv\", index=False)\n",
    "# rfm.to_csv(\"./Dataset/RFM Analysis.csv\", index=False)"
   ]
  }
 ],
 "metadata": {
  "kernelspec": {
   "display_name": "skripsi",
   "language": "python",
   "name": "python3"
  },
  "language_info": {
   "codemirror_mode": {
    "name": "ipython",
    "version": 3
   },
   "file_extension": ".py",
   "mimetype": "text/x-python",
   "name": "python",
   "nbconvert_exporter": "python",
   "pygments_lexer": "ipython3",
   "version": "3.13.1"
  }
 },
 "nbformat": 4,
 "nbformat_minor": 5
}
